{
 "cells": [
  {
   "cell_type": "markdown",
   "metadata": {},
   "source": [
    "# Box 2.3: Effect of different sample variances, sample sizes and degrees of conﬁdence on conﬁdence interval for the population mean\n",
    "We will again use the data from Lovett et al. (2000) on the chemistry of forested watersheds in the Catskill Mountains in New York State and focus on interval estimation for the mean concentration of $SO_4^{2-}$ in all the possible sites that could have been sampled."
   ]
  },
  {
   "cell_type": "code",
   "execution_count": 1,
   "metadata": {
    "collapsed": true
   },
   "outputs": [],
   "source": [
    "%matplotlib inline\n",
    "\n",
    "import numpy as np\n",
    "import pandas as pd \n",
    "import matplotlib.pyplot as plt\n",
    "import scipy.stats as stats"
   ]
  },
  {
   "cell_type": "code",
   "execution_count": 17,
   "metadata": {},
   "outputs": [
    {
     "data": {
      "text/html": [
       "<div>\n",
       "<style scoped>\n",
       "    .dataframe tbody tr th:only-of-type {\n",
       "        vertical-align: middle;\n",
       "    }\n",
       "\n",
       "    .dataframe tbody tr th {\n",
       "        vertical-align: top;\n",
       "    }\n",
       "\n",
       "    .dataframe thead th {\n",
       "        text-align: right;\n",
       "    }\n",
       "</style>\n",
       "<table border=\"1\" class=\"dataframe\">\n",
       "  <thead>\n",
       "    <tr style=\"text-align: right;\">\n",
       "      <th></th>\n",
       "      <th>STREAM</th>\n",
       "      <th>ELEVATN</th>\n",
       "      <th>SO4</th>\n",
       "      <th>SO4MOD</th>\n",
       "      <th>CL</th>\n",
       "    </tr>\n",
       "  </thead>\n",
       "  <tbody>\n",
       "    <tr>\n",
       "      <th>0</th>\n",
       "      <td>Santa_Cruz</td>\n",
       "      <td>680</td>\n",
       "      <td>50.6</td>\n",
       "      <td>50.6</td>\n",
       "      <td>15.5</td>\n",
       "    </tr>\n",
       "    <tr>\n",
       "      <th>1</th>\n",
       "      <td>Colgate</td>\n",
       "      <td>628</td>\n",
       "      <td>55.4</td>\n",
       "      <td>55.4</td>\n",
       "      <td>16.4</td>\n",
       "    </tr>\n",
       "    <tr>\n",
       "      <th>2</th>\n",
       "      <td>Halsey</td>\n",
       "      <td>625</td>\n",
       "      <td>56.5</td>\n",
       "      <td>56.5</td>\n",
       "      <td>17.1</td>\n",
       "    </tr>\n",
       "    <tr>\n",
       "      <th>3</th>\n",
       "      <td>Batavia_Hi</td>\n",
       "      <td>663</td>\n",
       "      <td>57.5</td>\n",
       "      <td>57.5</td>\n",
       "      <td>16.8</td>\n",
       "    </tr>\n",
       "    <tr>\n",
       "      <th>4</th>\n",
       "      <td>Windham_Ri</td>\n",
       "      <td>616</td>\n",
       "      <td>58.3</td>\n",
       "      <td>58.3</td>\n",
       "      <td>18.3</td>\n",
       "    </tr>\n",
       "  </tbody>\n",
       "</table>\n",
       "</div>"
      ],
      "text/plain": [
       "       STREAM  ELEVATN   SO4  SO4MOD    CL\n",
       "0  Santa_Cruz      680  50.6    50.6  15.5\n",
       "1     Colgate      628  55.4    55.4  16.4\n",
       "2      Halsey      625  56.5    56.5  17.1\n",
       "3  Batavia_Hi      663  57.5    57.5  16.8\n",
       "4  Windham_Ri      616  58.3    58.3  18.3"
      ]
     },
     "execution_count": 17,
     "metadata": {},
     "output_type": "execute_result"
    }
   ],
   "source": [
    "df = pd.read_csv('../../data/chpt2/lovett.csv', delimiter=',')\n",
    "df.head()"
   ]
  },
  {
   "cell_type": "code",
   "execution_count": 18,
   "metadata": {},
   "outputs": [
    {
     "data": {
      "text/plain": [
       "<matplotlib.axes._subplots.AxesSubplot at 0x1e2cf249c18>"
      ]
     },
     "execution_count": 18,
     "metadata": {},
     "output_type": "execute_result"
    },
    {
     "data": {
      "image/png": "[encoded data removed]",
      "text/plain": [
       "<matplotlib.figure.Figure at 0x1e2cebb8da0>"
      ]
     },
     "metadata": {},
     "output_type": "display_data"
    }
   ],
   "source": [
    "df[['SO4', 'SO4MOD']].boxplot(figsize=(13,6))"
   ]
  },
  {
   "cell_type": "markdown",
   "metadata": {},
   "source": [
    "## Original sample"
   ]
  },
  {
   "cell_type": "code",
   "execution_count": 19,
   "metadata": {},
   "outputs": [
    {
     "name": "stdout",
     "output_type": "stream",
     "text": [
      "Mean: 61.92307692307692\n",
      "Std: 5.241557700293499\n"
     ]
    }
   ],
   "source": [
    "SO4_mean = df.SO4.mean()\n",
    "SO4_std = df.SO4.std()\n",
    "print('Mean: {}'.format(SO4_mean))\n",
    "print('Std: {}'.format(SO4_std))"
   ]
  },
  {
   "cell_type": "code",
   "execution_count": 20,
   "metadata": {},
   "outputs": [
    {
     "name": "stdout",
     "output_type": "stream",
     "text": [
      "t_95%: 2.024394164575136\n"
     ]
    }
   ],
   "source": [
    "t_95 = stats.t.ppf(0.975, len(df.SO4)-1)\n",
    "print('t_95%: {}'.format(t_95))"
   ]
  },
  {
   "cell_type": "code",
   "execution_count": 21,
   "metadata": {},
   "outputs": [
    {
     "name": "stdout",
     "output_type": "stream",
     "text": [
      "Standard Error: 0.839320957610836\n",
      "Confidence Intervall: (60.22396047428393, 63.62219337186991)\n"
     ]
    }
   ],
   "source": [
    "SO4_sem = stats.sem(df.SO4)\n",
    "conf_int_95 = stats.t.interval(alpha=0.95, df=len(df.SO4)-1, loc=SO4_mean, scale=SO4_sem)\n",
    "print('Standard Error: {}'.format(SO4_sem))\n",
    "print('Confidence Intervall: {}'.format(conf_int_95))"
   ]
  },
  {
   "cell_type": "markdown",
   "metadata": {
    "collapsed": true
   },
   "source": [
    "## Different sample"
   ]
  },
  {
   "cell_type": "code",
   "execution_count": 24,
   "metadata": {},
   "outputs": [
    {
     "name": "stdout",
     "output_type": "stream",
     "text": [
      "Mean: 65.20256410256411\n",
      "Std: 22.703019590255376\n"
     ]
    }
   ],
   "source": [
    "SO4_mean = df.SO4MOD.mean()\n",
    "SO4_std = df.SO4MOD.std()\n",
    "print('Mean: {}'.format(SO4_mean))\n",
    "print('Std: {}'.format(SO4_std))"
   ]
  },
  {
   "cell_type": "code",
   "execution_count": 25,
   "metadata": {},
   "outputs": [
    {
     "name": "stdout",
     "output_type": "stream",
     "text": [
      "t_95%: 2.024394164575136\n"
     ]
    }
   ],
   "source": [
    "t_95 = stats.t.ppf(0.975, len(df.SO4MOD)-1)\n",
    "print('t_95%: {}'.format(t_95))"
   ]
  },
  {
   "cell_type": "code",
   "execution_count": 26,
   "metadata": {},
   "outputs": [
    {
     "name": "stdout",
     "output_type": "stream",
     "text": [
      "Standard Error: 3.635392612788319\n",
      "Confidence Intervall: (57.84309651129588, 72.56203169383234)\n"
     ]
    }
   ],
   "source": [
    "SO4_sem = stats.sem(df.SO4MOD)\n",
    "conf_int_95 = stats.t.interval(alpha=0.95, df=len(df.SO4MOD)-1, loc=SO4_mean, scale=SO4_sem)\n",
    "print('Standard Error: {}'.format(SO4_sem))\n",
    "print('Confidence Intervall: {}'.format(conf_int_95))"
   ]
  },
  {
   "cell_type": "code",
   "execution_count": null,
   "metadata": {
    "collapsed": true
   },
   "outputs": [],
   "source": []
  }
 ],
 "metadata": {
  "kernelspec": {
   "display_name": "Python [default]",
   "language": "python",
   "name": "python3"
  },
  "language_info": {
   "codemirror_mode": {
    "name": "ipython",
    "version": 3
   },
   "file_extension": ".py",
   "mimetype": "text/x-python",
   "name": "python",
   "nbconvert_exporter": "python",
   "pygments_lexer": "ipython3",
   "version": "3.6.3"
  }
 },
 "nbformat": 4,
 "nbformat_minor": 2
}
