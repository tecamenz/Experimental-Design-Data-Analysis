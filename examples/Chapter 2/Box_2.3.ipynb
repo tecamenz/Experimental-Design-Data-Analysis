{
 "cells": [
  {
   "cell_type": "markdown",
   "metadata": {},
   "source": [
    "### Import"
   ]
  },
  {
   "cell_type": "code",
   "execution_count": 2,
   "metadata": {
    "collapsed": true
   },
   "outputs": [],
   "source": [
    "import numpy as np\n",
    "import pandas as pd\n",
    "from scipy import stats"
   ]
  },
  {
   "cell_type": "markdown",
   "metadata": {},
   "source": [
    "### Read data"
   ]
  },
  {
   "cell_type": "code",
   "execution_count": 4,
   "metadata": {},
   "outputs": [
    {
     "data": {
      "text/html": [
       "<div>\n",
       "<style>\n",
       "    .dataframe thead tr:only-child th {\n",
       "        text-align: right;\n",
       "    }\n",
       "\n",
       "    .dataframe thead th {\n",
       "        text-align: left;\n",
       "    }\n",
       "\n",
       "    .dataframe tbody tr th {\n",
       "        vertical-align: top;\n",
       "    }\n",
       "</style>\n",
       "<table border=\"1\" class=\"dataframe\">\n",
       "  <thead>\n",
       "    <tr style=\"text-align: right;\">\n",
       "      <th></th>\n",
       "      <th>STREAM</th>\n",
       "      <th>ELEVATN</th>\n",
       "      <th>SO4</th>\n",
       "      <th>SO4MOD</th>\n",
       "      <th>CL</th>\n",
       "    </tr>\n",
       "  </thead>\n",
       "  <tbody>\n",
       "    <tr>\n",
       "      <th>0</th>\n",
       "      <td>Santa_Cruz</td>\n",
       "      <td>680</td>\n",
       "      <td>50.6</td>\n",
       "      <td>50.6</td>\n",
       "      <td>15.5</td>\n",
       "    </tr>\n",
       "    <tr>\n",
       "      <th>1</th>\n",
       "      <td>Colgate</td>\n",
       "      <td>628</td>\n",
       "      <td>55.4</td>\n",
       "      <td>55.4</td>\n",
       "      <td>16.4</td>\n",
       "    </tr>\n",
       "    <tr>\n",
       "      <th>2</th>\n",
       "      <td>Halsey</td>\n",
       "      <td>625</td>\n",
       "      <td>56.5</td>\n",
       "      <td>56.5</td>\n",
       "      <td>17.1</td>\n",
       "    </tr>\n",
       "    <tr>\n",
       "      <th>3</th>\n",
       "      <td>Batavia_Hi</td>\n",
       "      <td>663</td>\n",
       "      <td>57.5</td>\n",
       "      <td>57.5</td>\n",
       "      <td>16.8</td>\n",
       "    </tr>\n",
       "    <tr>\n",
       "      <th>4</th>\n",
       "      <td>Windham_Ri</td>\n",
       "      <td>616</td>\n",
       "      <td>58.3</td>\n",
       "      <td>58.3</td>\n",
       "      <td>18.3</td>\n",
       "    </tr>\n",
       "  </tbody>\n",
       "</table>\n",
       "</div>"
      ],
      "text/plain": [
       "       STREAM  ELEVATN   SO4  SO4MOD    CL\n",
       "0  Santa_Cruz      680  50.6    50.6  15.5\n",
       "1     Colgate      628  55.4    55.4  16.4\n",
       "2      Halsey      625  56.5    56.5  17.1\n",
       "3  Batavia_Hi      663  57.5    57.5  16.8\n",
       "4  Windham_Ri      616  58.3    58.3  18.3"
      ]
     },
     "execution_count": 4,
     "metadata": {},
     "output_type": "execute_result"
    }
   ],
   "source": [
    "df = pd.read_csv('lovett.csv', delimiter=',')\n",
    "df.head()"
   ]
  },
  {
   "cell_type": "markdown",
   "metadata": {},
   "source": [
    "### Original sample"
   ]
  },
  {
   "cell_type": "code",
   "execution_count": 6,
   "metadata": {},
   "outputs": [
    {
     "name": "stdout",
     "output_type": "stream",
     "text": [
      "Mean: 61.92307692307692\n",
      "Std: 5.241557700293499\n"
     ]
    }
   ],
   "source": [
    "SO4_mean = df.SO4.mean()\n",
    "SO4_std = df.SO4.std()\n",
    "print('Mean: {}'.format(SO4_mean))\n",
    "print('Std: {}'.format(SO4_std))"
   ]
  },
  {
   "cell_type": "code",
   "execution_count": 20,
   "metadata": {},
   "outputs": [
    {
     "name": "stdout",
     "output_type": "stream",
     "text": [
      "t_95%: 2.024394164575136\n"
     ]
    }
   ],
   "source": [
    "t_95 = stats.t.ppf(0.975, len(df.SO4)-1)\n",
    "print('t_95%: {}'.format(t_95))"
   ]
  },
  {
   "cell_type": "markdown",
   "metadata": {},
   "source": [
    "Confidence Interval manual calculation"
   ]
  },
  {
   "cell_type": "code",
   "execution_count": 24,
   "metadata": {},
   "outputs": [
    {
     "name": "stdout",
     "output_type": "stream",
     "text": [
      "Standard Error: 0.8393209576108362\n",
      "Confidence Intervall: (60.223960474283928, 63.622193371869912)\n"
     ]
    }
   ],
   "source": [
    "SO4_sem_a = df.SO4.std()/np.sqrt(len(df.SO4))\n",
    "conf_int_95_a = (SO4_mean-t_95*SO4_sem_a, SO4_mean+t_95*SO4_sem_a)\n",
    "print('Standard Error: {}'.format(SO4_sem_a))\n",
    "print('Confidence Intervall: {}'.format(conf_int_95_a))"
   ]
  },
  {
   "cell_type": "markdown",
   "metadata": {},
   "source": [
    "Confidence Intervall with scipy.stats"
   ]
  },
  {
   "cell_type": "code",
   "execution_count": 22,
   "metadata": {},
   "outputs": [
    {
     "name": "stdout",
     "output_type": "stream",
     "text": [
      "Standard Error: 0.839320957610836\n",
      "Confidence Intervall: (60.223960474283928, 63.622193371869912)\n"
     ]
    }
   ],
   "source": [
    "SO4_sem = stats.sem(df.SO4)\n",
    "conf_int_95 = stats.t.interval(alpha=0.95, df=len(df.SO4)-1, loc=SO4_mean, scale=SO4_sem)\n",
    "print('Standard Error: {}'.format(SO4_sem))\n",
    "print('Confidence Intervall: {}'.format(conf_int_95))"
   ]
  },
  {
   "cell_type": "code",
   "execution_count": null,
   "metadata": {
    "collapsed": true
   },
   "outputs": [],
   "source": []
  }
 ],
 "metadata": {
  "kernelspec": {
   "display_name": "Python [default]",
   "language": "python",
   "name": "python3"
  },
  "language_info": {
   "codemirror_mode": {
    "name": "ipython",
    "version": 3
   },
   "file_extension": ".py",
   "mimetype": "text/x-python",
   "name": "python",
   "nbconvert_exporter": "python",
   "pygments_lexer": "ipython3",
   "version": "3.6.3"
  }
 },
 "nbformat": 4,
 "nbformat_minor": 2
}
