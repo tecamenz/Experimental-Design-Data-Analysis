{
 "cells": [
  {
   "cell_type": "markdown",
   "metadata": {},
   "source": [
    "# Box 3.1: Fecundity of predatory gastropods \n",
    "Ward & Quinn (1988) collected 37 egg capsules of the intertidal predatory gastropod Lepsiella vinosa from the littorinid zone on a rocky intertidal shore and 42 capsules from the mussel zone. Other data indicated that rates of energy consumption by L. vinosa were much greater in the mussel zone so there was interest in differences in fecundity between the zones. The $H_0$ was that there is no difference between the zones in the mean number of eggs per capsule. This is an indepen- dent comparison because individual egg capsules can only be in either of the two zones."
   ]
  },
  {
   "cell_type": "code",
   "execution_count": 1,
   "metadata": {
    "collapsed": true
   },
   "outputs": [],
   "source": [
    "%matplotlib inline\n",
    "\n",
    "import numpy as np\n",
    "import pandas as pd \n",
    "import matplotlib.pyplot as plt\n",
    "import scipy.stats as stats\n",
    "import statsmodels.stats.api as sms"
   ]
  },
  {
   "cell_type": "code",
   "execution_count": 2,
   "metadata": {
    "collapsed": true
   },
   "outputs": [],
   "source": [
    "df = pd.read_csv('../../data/chpt3/ward.csv')"
   ]
  },
  {
   "cell_type": "code",
   "execution_count": 3,
   "metadata": {},
   "outputs": [
    {
     "data": {
      "text/html": [
       "<div>\n",
       "<style scoped>\n",
       "    .dataframe tbody tr th:only-of-type {\n",
       "        vertical-align: middle;\n",
       "    }\n",
       "\n",
       "    .dataframe tbody tr th {\n",
       "        vertical-align: top;\n",
       "    }\n",
       "\n",
       "    .dataframe thead th {\n",
       "        text-align: right;\n",
       "    }\n",
       "</style>\n",
       "<table border=\"1\" class=\"dataframe\">\n",
       "  <thead>\n",
       "    <tr style=\"text-align: right;\">\n",
       "      <th></th>\n",
       "      <th>ZONE</th>\n",
       "      <th>EGGS</th>\n",
       "    </tr>\n",
       "  </thead>\n",
       "  <tbody>\n",
       "    <tr>\n",
       "      <th>0</th>\n",
       "      <td>Mussel</td>\n",
       "      <td>11</td>\n",
       "    </tr>\n",
       "    <tr>\n",
       "      <th>1</th>\n",
       "      <td>Mussel</td>\n",
       "      <td>8</td>\n",
       "    </tr>\n",
       "    <tr>\n",
       "      <th>2</th>\n",
       "      <td>Mussel</td>\n",
       "      <td>18</td>\n",
       "    </tr>\n",
       "    <tr>\n",
       "      <th>3</th>\n",
       "      <td>Mussel</td>\n",
       "      <td>10</td>\n",
       "    </tr>\n",
       "    <tr>\n",
       "      <th>4</th>\n",
       "      <td>Mussel</td>\n",
       "      <td>9</td>\n",
       "    </tr>\n",
       "  </tbody>\n",
       "</table>\n",
       "</div>"
      ],
      "text/plain": [
       "     ZONE  EGGS\n",
       "0  Mussel    11\n",
       "1  Mussel     8\n",
       "2  Mussel    18\n",
       "3  Mussel    10\n",
       "4  Mussel     9"
      ]
     },
     "execution_count": 3,
     "metadata": {},
     "output_type": "execute_result"
    }
   ],
   "source": [
    "df.head()"
   ]
  },
  {
   "cell_type": "markdown",
   "metadata": {},
   "source": [
    "## Descriptive Statistics"
   ]
  },
  {
   "cell_type": "code",
   "execution_count": 4,
   "metadata": {},
   "outputs": [
    {
     "data": {
      "text/html": [
       "<div>\n",
       "<style scoped>\n",
       "    .dataframe tbody tr th:only-of-type {\n",
       "        vertical-align: middle;\n",
       "    }\n",
       "\n",
       "    .dataframe tbody tr th {\n",
       "        vertical-align: top;\n",
       "    }\n",
       "\n",
       "    .dataframe thead tr th {\n",
       "        text-align: left;\n",
       "    }\n",
       "\n",
       "    .dataframe thead tr:last-of-type th {\n",
       "        text-align: right;\n",
       "    }\n",
       "</style>\n",
       "<table border=\"1\" class=\"dataframe\">\n",
       "  <thead>\n",
       "    <tr>\n",
       "      <th></th>\n",
       "      <th colspan=\"8\" halign=\"left\">EGGS</th>\n",
       "    </tr>\n",
       "    <tr>\n",
       "      <th></th>\n",
       "      <th>count</th>\n",
       "      <th>mean</th>\n",
       "      <th>std</th>\n",
       "      <th>min</th>\n",
       "      <th>25%</th>\n",
       "      <th>50%</th>\n",
       "      <th>75%</th>\n",
       "      <th>max</th>\n",
       "    </tr>\n",
       "    <tr>\n",
       "      <th>ZONE</th>\n",
       "      <th></th>\n",
       "      <th></th>\n",
       "      <th></th>\n",
       "      <th></th>\n",
       "      <th></th>\n",
       "      <th></th>\n",
       "      <th></th>\n",
       "      <th></th>\n",
       "    </tr>\n",
       "  </thead>\n",
       "  <tbody>\n",
       "    <tr>\n",
       "      <th>Littor</th>\n",
       "      <td>37.0</td>\n",
       "      <td>8.702703</td>\n",
       "      <td>2.025735</td>\n",
       "      <td>5.0</td>\n",
       "      <td>7.0</td>\n",
       "      <td>9.0</td>\n",
       "      <td>10.0</td>\n",
       "      <td>13.0</td>\n",
       "    </tr>\n",
       "    <tr>\n",
       "      <th>Mussel</th>\n",
       "      <td>42.0</td>\n",
       "      <td>11.357143</td>\n",
       "      <td>2.314550</td>\n",
       "      <td>8.0</td>\n",
       "      <td>10.0</td>\n",
       "      <td>11.0</td>\n",
       "      <td>13.0</td>\n",
       "      <td>18.0</td>\n",
       "    </tr>\n",
       "  </tbody>\n",
       "</table>\n",
       "</div>"
      ],
      "text/plain": [
       "        EGGS                                                  \n",
       "       count       mean       std  min   25%   50%   75%   max\n",
       "ZONE                                                          \n",
       "Littor  37.0   8.702703  2.025735  5.0   7.0   9.0  10.0  13.0\n",
       "Mussel  42.0  11.357143  2.314550  8.0  10.0  11.0  13.0  18.0"
      ]
     },
     "execution_count": 4,
     "metadata": {},
     "output_type": "execute_result"
    }
   ],
   "source": [
    "df.groupby('ZONE').describe(include='all')"
   ]
  },
  {
   "cell_type": "markdown",
   "metadata": {},
   "source": [
    "### SEM"
   ]
  },
  {
   "cell_type": "code",
   "execution_count": 5,
   "metadata": {},
   "outputs": [
    {
     "data": {
      "text/html": [
       "<div>\n",
       "<style scoped>\n",
       "    .dataframe tbody tr th:only-of-type {\n",
       "        vertical-align: middle;\n",
       "    }\n",
       "\n",
       "    .dataframe tbody tr th {\n",
       "        vertical-align: top;\n",
       "    }\n",
       "\n",
       "    .dataframe thead th {\n",
       "        text-align: right;\n",
       "    }\n",
       "</style>\n",
       "<table border=\"1\" class=\"dataframe\">\n",
       "  <thead>\n",
       "    <tr style=\"text-align: right;\">\n",
       "      <th></th>\n",
       "      <th>EGGS</th>\n",
       "    </tr>\n",
       "    <tr>\n",
       "      <th>ZONE</th>\n",
       "      <th></th>\n",
       "    </tr>\n",
       "  </thead>\n",
       "  <tbody>\n",
       "    <tr>\n",
       "      <th>Littor</th>\n",
       "      <td>0.333029</td>\n",
       "    </tr>\n",
       "    <tr>\n",
       "      <th>Mussel</th>\n",
       "      <td>0.357143</td>\n",
       "    </tr>\n",
       "  </tbody>\n",
       "</table>\n",
       "</div>"
      ],
      "text/plain": [
       "            EGGS\n",
       "ZONE            \n",
       "Littor  0.333029\n",
       "Mussel  0.357143"
      ]
     },
     "execution_count": 5,
     "metadata": {},
     "output_type": "execute_result"
    }
   ],
   "source": [
    "df.groupby('ZONE').sem()"
   ]
  },
  {
   "cell_type": "markdown",
   "metadata": {},
   "source": [
    "### 95% CI for mean"
   ]
  },
  {
   "cell_type": "code",
   "execution_count": 6,
   "metadata": {
    "collapsed": true
   },
   "outputs": [],
   "source": [
    "mussel = df[df.ZONE == 'Mussel']['EGGS']\n",
    "littor = df[df.ZONE == 'Littor']['EGGS']"
   ]
  },
  {
   "cell_type": "code",
   "execution_count": 7,
   "metadata": {},
   "outputs": [
    {
     "name": "stdout",
     "output_type": "stream",
     "text": [
      "(8.027288918576449, 9.378116486828958)\n",
      "(10.635878227148966, 12.078407487136749)\n"
     ]
    }
   ],
   "source": [
    "CI_Littorinid = stats.t.interval(alpha=0.95, df=len(littor)-1, loc=np.mean(littor, axis=0), scale=stats.sem(littor))\n",
    "CI_Mussel = stats.t.interval(alpha=0.95, df=len(mussel)-1, loc=np.mean(mussel, axis=0), scale=stats.sem(mussel))\n",
    "print(CI_Littorinid)\n",
    "print(CI_Mussel)"
   ]
  },
  {
   "cell_type": "markdown",
   "metadata": {},
   "source": [
    "### Parametric t-Test (independent variables)"
   ]
  },
  {
   "cell_type": "code",
   "execution_count": 8,
   "metadata": {},
   "outputs": [
    {
     "data": {
      "text/plain": [
       "Ttest_indResult(statistic=5.389852612477605, pvalue=7.457222363458506e-07)"
      ]
     },
     "execution_count": 8,
     "metadata": {},
     "output_type": "execute_result"
    }
   ],
   "source": [
    "stats.ttest_ind(mussel, littor)"
   ]
  },
  {
   "cell_type": "markdown",
   "metadata": {},
   "source": [
    "### Mean difference"
   ]
  },
  {
   "cell_type": "code",
   "execution_count": 9,
   "metadata": {},
   "outputs": [
    {
     "name": "stdout",
     "output_type": "stream",
     "text": [
      "Mean difference is: [2.65444015]\n"
     ]
    }
   ],
   "source": [
    "mean_0 = df.groupby('ZONE').mean()\n",
    "d0 = abs(mean_0.loc['Littor'] - mean_0.loc['Mussel'])\n",
    "print('Mean difference is: {}'.format(d0.values))"
   ]
  },
  {
   "cell_type": "markdown",
   "metadata": {},
   "source": [
    "###  95% CI for the difference between means"
   ]
  },
  {
   "cell_type": "markdown",
   "metadata": {},
   "source": [
    "A confidence interval on the difference between means is computed using the following formula:\n",
    "$$Low = M_1 - M_2 - (t_{CI})(S_{M_1-M_2})$$\n",
    "$$High = M_1 - M_2 + (t_{CI})(S_{M_1-M_2})$$\n",
    "\n",
    "With:  \n",
    "\n",
    "- $M_1, M_2$ the respective means\n",
    "- $t_{CI}$ the t for the desired level of confidence\n",
    "- $S_{M_1-M_2}=\\sqrt{\\frac{\\sigma_1^2}{n_1}+\\frac{\\sigma_2^2}{n_2}}$ the estimated standard error of the difference\n"
   ]
  },
  {
   "cell_type": "code",
   "execution_count": 10,
   "metadata": {},
   "outputs": [
    {
     "name": "stdout",
     "output_type": "stream",
     "text": [
      "95% CI for difference of mean is: [1.6944473902980148 3.6144329185822937]\n"
     ]
    }
   ],
   "source": [
    "m1 = np.mean(mussel)\n",
    "m2 = np.mean(littor)\n",
    "sig_1 = np.std(mussel)\n",
    "sig_2 = np.std(littor)\n",
    "t_CL = stats.t.ppf(q = 0.975, df=len(mussel) + len(littor) -2)\n",
    "S_m1_m2 = np.sqrt(sig_1**2/len(mussel)+sig_2**2/len(littor))\n",
    "low = m1-m2-t_CL*S_m1_m2\n",
    "high = m1-m2+t_CL*S_m1_m2\n",
    "print('95% CI for difference of mean is: [{} {}]'.format(low, high))"
   ]
  },
  {
   "cell_type": "markdown",
   "metadata": {},
   "source": [
    "**Calculation via StatsModels \"CompareMeans\" function**\n",
    "\n",
    "http://www.statsmodels.org/stable/generated/statsmodels.stats.weightstats.CompareMeans.html"
   ]
  },
  {
   "cell_type": "code",
   "execution_count": 11,
   "metadata": {},
   "outputs": [
    {
     "name": "stdout",
     "output_type": "stream",
     "text": [
      "(1.6737703654627645, 3.635109943417544)\n"
     ]
    }
   ],
   "source": [
    "cm = sms.CompareMeans(sms.DescrStatsW(mussel), sms.DescrStatsW(littor))\n",
    "print(cm.tconfint_diff())"
   ]
  },
  {
   "cell_type": "markdown",
   "metadata": {},
   "source": [
    "### Randomization  Test"
   ]
  },
  {
   "cell_type": "markdown",
   "metadata": {},
   "source": [
    "Calculate mean difference of the two classes \"Mussel\" and \"Littor\":"
   ]
  },
  {
   "cell_type": "markdown",
   "metadata": {},
   "source": [
    "Randomly allocate the 79 samples to two pseudo classes \"A\" and \"B\" with equal proportaions like the Mussel and Littors. Then calculate the difference in the mean of the two classes and save the result. "
   ]
  },
  {
   "cell_type": "code",
   "execution_count": 12,
   "metadata": {
    "collapsed": true
   },
   "outputs": [],
   "source": [
    "a = 10000\n",
    "d = []\n",
    "tmp = df.EGGS.copy()\n",
    "tmp = tmp.values\n",
    "for i in range(a):\n",
    "    np.random.shuffle(tmp) # randomly shuffle values\n",
    "    A = np.mean(tmp[0:37]) # allocate 37 samples to class A\n",
    "    B = np.mean(tmp[37:]) # allocate 42 samples to calass B\n",
    "    d.append(A-B)"
   ]
  },
  {
   "cell_type": "markdown",
   "metadata": {},
   "source": [
    "Test the proportion of all differences in means which are greater than the initial difference. This is the p-value for this randomization test. The probability of obtaining a similar or greater difference of means by chance."
   ]
  },
  {
   "cell_type": "code",
   "execution_count": 13,
   "metadata": {},
   "outputs": [
    {
     "data": {
      "text/plain": [
       "0.0"
      ]
     },
     "execution_count": 13,
     "metadata": {},
     "output_type": "execute_result"
    }
   ],
   "source": [
    "(d0.values < d).sum()/a"
   ]
  },
  {
   "cell_type": "code",
   "execution_count": 14,
   "metadata": {},
   "outputs": [
    {
     "data": {
      "image/png": "[encoded data removed]",
      "text/plain": [
       "<Figure size 432x288 with 1 Axes>"
      ]
     },
     "metadata": {
      "needs_background": "light"
     },
     "output_type": "display_data"
    }
   ],
   "source": [
    "n, bins, patches = plt.hist(d, bins=15)\n",
    "plt.vlines(x=d0.values, ymin=0, ymax=max(n), color='r')\n",
    "plt.grid()"
   ]
  },
  {
   "cell_type": "code",
   "execution_count": 15,
   "metadata": {},
   "outputs": [
    {
     "name": "stdout",
     "output_type": "stream",
     "text": [
      "95% conf-interval Mean: [-1.1293436293436283 - 1.1074646074646086]\n"
     ]
    }
   ],
   "source": [
    "low = np.percentile(a = d, q=2.5, axis=0)\n",
    "high = np.percentile(a = d, q=97.5, axis=0)\n",
    "print('95% conf-interval Mean: [{} - {}]'.format(low,high))"
   ]
  },
  {
   "cell_type": "markdown",
   "metadata": {},
   "source": [
    "### Mann–Whitney–Wilcoxon"
   ]
  },
  {
   "cell_type": "code",
   "execution_count": 16,
   "metadata": {},
   "outputs": [
    {
     "data": {
      "text/plain": [
       "MannwhitneyuResult(statistic=304.0, pvalue=1.4055660765830182e-06)"
      ]
     },
     "execution_count": 16,
     "metadata": {},
     "output_type": "execute_result"
    }
   ],
   "source": [
    "stats.mannwhitneyu(mussel, littor)"
   ]
  },
  {
   "cell_type": "code",
   "execution_count": null,
   "metadata": {
    "collapsed": true
   },
   "outputs": [],
   "source": []
  }
 ],
 "metadata": {
  "kernelspec": {
   "display_name": "Python [conda env:sccer]",
   "language": "python",
   "name": "conda-env-sccer-py"
  },
  "language_info": {
   "codemirror_mode": {
    "name": "ipython",
    "version": 3
   },
   "file_extension": ".py",
   "mimetype": "text/x-python",
   "name": "python",
   "nbconvert_exporter": "python",
   "pygments_lexer": "ipython3",
   "version": "3.6.6"
  }
 },
 "nbformat": 4,
 "nbformat_minor": 2
}
