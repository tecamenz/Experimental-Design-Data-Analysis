{
 "cells": [
  {
   "cell_type": "markdown",
   "metadata": {},
   "source": [
    "# Box 6.2: Worked example of multiple linear regression: Abundance of birds in forest patches\n",
    "Loyn (1987) selected 56 forest patches in southeastern Victoria, Australia, and related the abundance of forest birds in each patch to six predictor variables: patch area (ha), distance to nearest patch (km), distance to nearest larger patch (km), grazing stock (1 to 5 indicating light to heavy), altitude (m) and years since isolation (years)."
   ]
  },
  {
   "cell_type": "code",
   "execution_count": 1,
   "metadata": {},
   "outputs": [],
   "source": [
    "%matplotlib inline\n",
    "\n",
    "import numpy as np\n",
    "import pandas as pd \n",
    "import matplotlib.pyplot as plt\n",
    "import scipy.stats as stats\n",
    "import statsmodels.api as sm\n",
    "from statsmodels.formula.api import ols\n",
    "import seaborn as sns"
   ]
  },
  {
   "cell_type": "markdown",
   "metadata": {},
   "source": [
    "# Load data"
   ]
  },
  {
   "cell_type": "code",
   "execution_count": 2,
   "metadata": {},
   "outputs": [],
   "source": [
    "df = pd.read_csv('../../data/chpt6/loyn.csv')"
   ]
  },
  {
   "cell_type": "code",
   "execution_count": 3,
   "metadata": {},
   "outputs": [
    {
     "data": {
      "text/html": [
       "<div>\n",
       "<style scoped>\n",
       "    .dataframe tbody tr th:only-of-type {\n",
       "        vertical-align: middle;\n",
       "    }\n",
       "\n",
       "    .dataframe tbody tr th {\n",
       "        vertical-align: top;\n",
       "    }\n",
       "\n",
       "    .dataframe thead th {\n",
       "        text-align: right;\n",
       "    }\n",
       "</style>\n",
       "<table border=\"1\" class=\"dataframe\">\n",
       "  <thead>\n",
       "    <tr style=\"text-align: right;\">\n",
       "      <th></th>\n",
       "      <th>ABUND</th>\n",
       "      <th>AREA</th>\n",
       "      <th>YR.ISOL</th>\n",
       "      <th>DIST</th>\n",
       "      <th>LDIST</th>\n",
       "      <th>GRAZE</th>\n",
       "      <th>ALT</th>\n",
       "      <th>L10DIST</th>\n",
       "      <th>L10LDIST</th>\n",
       "      <th>L10AREA</th>\n",
       "      <th>...</th>\n",
       "      <th>CL10AREA</th>\n",
       "      <th>CGRAZE</th>\n",
       "      <th>RESID1</th>\n",
       "      <th>PREDICT1</th>\n",
       "      <th>AREARESY</th>\n",
       "      <th>AREARESX</th>\n",
       "      <th>GRAZRESY</th>\n",
       "      <th>GRAZRESX</th>\n",
       "      <th>YRRESY</th>\n",
       "      <th>YRRESX</th>\n",
       "    </tr>\n",
       "  </thead>\n",
       "  <tbody>\n",
       "    <tr>\n",
       "      <th>0</th>\n",
       "      <td>5.3</td>\n",
       "      <td>0.1</td>\n",
       "      <td>1968</td>\n",
       "      <td>39</td>\n",
       "      <td>39</td>\n",
       "      <td>2</td>\n",
       "      <td>160</td>\n",
       "      <td>1.591065</td>\n",
       "      <td>1.591065</td>\n",
       "      <td>-1.00000</td>\n",
       "      <td>...</td>\n",
       "      <td>-1.931935</td>\n",
       "      <td>-0.982143</td>\n",
       "      <td>-4.221798</td>\n",
       "      <td>9.521798</td>\n",
       "      <td>-16.489778</td>\n",
       "      <td>-1.642250</td>\n",
       "      <td>-1.317648</td>\n",
       "      <td>-1.741370</td>\n",
       "      <td>-4.324122</td>\n",
       "      <td>-1.385164</td>\n",
       "    </tr>\n",
       "    <tr>\n",
       "      <th>1</th>\n",
       "      <td>2.0</td>\n",
       "      <td>0.5</td>\n",
       "      <td>1920</td>\n",
       "      <td>234</td>\n",
       "      <td>234</td>\n",
       "      <td>5</td>\n",
       "      <td>60</td>\n",
       "      <td>2.369216</td>\n",
       "      <td>2.369216</td>\n",
       "      <td>-0.30103</td>\n",
       "      <td>...</td>\n",
       "      <td>-1.232965</td>\n",
       "      <td>2.017857</td>\n",
       "      <td>-1.033102</td>\n",
       "      <td>3.033102</td>\n",
       "      <td>-3.275036</td>\n",
       "      <td>-0.300116</td>\n",
       "      <td>-0.805155</td>\n",
       "      <td>-0.136680</td>\n",
       "      <td>-1.942302</td>\n",
       "      <td>-12.307939</td>\n",
       "    </tr>\n",
       "    <tr>\n",
       "      <th>2</th>\n",
       "      <td>1.5</td>\n",
       "      <td>0.5</td>\n",
       "      <td>1900</td>\n",
       "      <td>104</td>\n",
       "      <td>311</td>\n",
       "      <td>5</td>\n",
       "      <td>140</td>\n",
       "      <td>2.017033</td>\n",
       "      <td>2.492760</td>\n",
       "      <td>-0.30103</td>\n",
       "      <td>...</td>\n",
       "      <td>-1.232965</td>\n",
       "      <td>2.017857</td>\n",
       "      <td>-1.855642</td>\n",
       "      <td>3.355642</td>\n",
       "      <td>-6.688699</td>\n",
       "      <td>-0.646976</td>\n",
       "      <td>-1.424965</td>\n",
       "      <td>-0.258240</td>\n",
       "      <td>-3.808217</td>\n",
       "      <td>-26.432223</td>\n",
       "    </tr>\n",
       "    <tr>\n",
       "      <th>3</th>\n",
       "      <td>17.1</td>\n",
       "      <td>1.0</td>\n",
       "      <td>1966</td>\n",
       "      <td>66</td>\n",
       "      <td>66</td>\n",
       "      <td>3</td>\n",
       "      <td>160</td>\n",
       "      <td>1.819544</td>\n",
       "      <td>1.819544</td>\n",
       "      <td>0.00000</td>\n",
       "      <td>...</td>\n",
       "      <td>-0.931935</td>\n",
       "      <td>0.017857</td>\n",
       "      <td>2.278827</td>\n",
       "      <td>14.821173</td>\n",
       "      <td>-1.778062</td>\n",
       "      <td>-0.543074</td>\n",
       "      <td>2.458526</td>\n",
       "      <td>-0.107750</td>\n",
       "      <td>3.056407</td>\n",
       "      <td>10.526182</td>\n",
       "    </tr>\n",
       "    <tr>\n",
       "      <th>4</th>\n",
       "      <td>13.8</td>\n",
       "      <td>1.0</td>\n",
       "      <td>1918</td>\n",
       "      <td>246</td>\n",
       "      <td>246</td>\n",
       "      <td>5</td>\n",
       "      <td>140</td>\n",
       "      <td>2.390935</td>\n",
       "      <td>2.390935</td>\n",
       "      <td>0.00000</td>\n",
       "      <td>...</td>\n",
       "      <td>-0.931935</td>\n",
       "      <td>2.017857</td>\n",
       "      <td>7.139005</td>\n",
       "      <td>6.660995</td>\n",
       "      <td>4.706387</td>\n",
       "      <td>-0.325642</td>\n",
       "      <td>6.157437</td>\n",
       "      <td>0.588562</td>\n",
       "      <td>6.472277</td>\n",
       "      <td>-9.025571</td>\n",
       "    </tr>\n",
       "  </tbody>\n",
       "</table>\n",
       "<p>5 rows × 21 columns</p>\n",
       "</div>"
      ],
      "text/plain": [
       "   ABUND  AREA  YR.ISOL  DIST  LDIST  GRAZE  ALT   L10DIST  L10LDIST  L10AREA  \\\n",
       "0    5.3   0.1     1968    39     39      2  160  1.591065  1.591065 -1.00000   \n",
       "1    2.0   0.5     1920   234    234      5   60  2.369216  2.369216 -0.30103   \n",
       "2    1.5   0.5     1900   104    311      5  140  2.017033  2.492760 -0.30103   \n",
       "3   17.1   1.0     1966    66     66      3  160  1.819544  1.819544  0.00000   \n",
       "4   13.8   1.0     1918   246    246      5  140  2.390935  2.390935  0.00000   \n",
       "\n",
       "   ...  CL10AREA    CGRAZE    RESID1   PREDICT1   AREARESY  AREARESX  \\\n",
       "0  ... -1.931935 -0.982143 -4.221798   9.521798 -16.489778 -1.642250   \n",
       "1  ... -1.232965  2.017857 -1.033102   3.033102  -3.275036 -0.300116   \n",
       "2  ... -1.232965  2.017857 -1.855642   3.355642  -6.688699 -0.646976   \n",
       "3  ... -0.931935  0.017857  2.278827  14.821173  -1.778062 -0.543074   \n",
       "4  ... -0.931935  2.017857  7.139005   6.660995   4.706387 -0.325642   \n",
       "\n",
       "   GRAZRESY  GRAZRESX    YRRESY     YRRESX  \n",
       "0 -1.317648 -1.741370 -4.324122  -1.385164  \n",
       "1 -0.805155 -0.136680 -1.942302 -12.307939  \n",
       "2 -1.424965 -0.258240 -3.808217 -26.432223  \n",
       "3  2.458526 -0.107750  3.056407  10.526182  \n",
       "4  6.157437  0.588562  6.472277  -9.025571  \n",
       "\n",
       "[5 rows x 21 columns]"
      ]
     },
     "execution_count": 3,
     "metadata": {},
     "output_type": "execute_result"
    }
   ],
   "source": [
    "df.head()"
   ]
  },
  {
   "cell_type": "code",
   "execution_count": 4,
   "metadata": {},
   "outputs": [
    {
     "data": {
      "text/html": [
       "<div>\n",
       "<style scoped>\n",
       "    .dataframe tbody tr th:only-of-type {\n",
       "        vertical-align: middle;\n",
       "    }\n",
       "\n",
       "    .dataframe tbody tr th {\n",
       "        vertical-align: top;\n",
       "    }\n",
       "\n",
       "    .dataframe thead th {\n",
       "        text-align: right;\n",
       "    }\n",
       "</style>\n",
       "<table border=\"1\" class=\"dataframe\">\n",
       "  <thead>\n",
       "    <tr style=\"text-align: right;\">\n",
       "      <th></th>\n",
       "      <th>ABUND</th>\n",
       "      <th>AREA</th>\n",
       "      <th>DIST</th>\n",
       "      <th>LDIST</th>\n",
       "      <th>GRAZE</th>\n",
       "      <th>ALT</th>\n",
       "      <th>YR_ISOL</th>\n",
       "    </tr>\n",
       "  </thead>\n",
       "  <tbody>\n",
       "    <tr>\n",
       "      <th>0</th>\n",
       "      <td>5.3</td>\n",
       "      <td>0.1</td>\n",
       "      <td>39</td>\n",
       "      <td>39</td>\n",
       "      <td>2</td>\n",
       "      <td>160</td>\n",
       "      <td>51.5</td>\n",
       "    </tr>\n",
       "    <tr>\n",
       "      <th>1</th>\n",
       "      <td>2.0</td>\n",
       "      <td>0.5</td>\n",
       "      <td>234</td>\n",
       "      <td>234</td>\n",
       "      <td>5</td>\n",
       "      <td>60</td>\n",
       "      <td>3.5</td>\n",
       "    </tr>\n",
       "    <tr>\n",
       "      <th>2</th>\n",
       "      <td>1.5</td>\n",
       "      <td>0.5</td>\n",
       "      <td>104</td>\n",
       "      <td>311</td>\n",
       "      <td>5</td>\n",
       "      <td>140</td>\n",
       "      <td>-16.5</td>\n",
       "    </tr>\n",
       "    <tr>\n",
       "      <th>3</th>\n",
       "      <td>17.1</td>\n",
       "      <td>1.0</td>\n",
       "      <td>66</td>\n",
       "      <td>66</td>\n",
       "      <td>3</td>\n",
       "      <td>160</td>\n",
       "      <td>49.5</td>\n",
       "    </tr>\n",
       "    <tr>\n",
       "      <th>4</th>\n",
       "      <td>13.8</td>\n",
       "      <td>1.0</td>\n",
       "      <td>246</td>\n",
       "      <td>246</td>\n",
       "      <td>5</td>\n",
       "      <td>140</td>\n",
       "      <td>1.5</td>\n",
       "    </tr>\n",
       "  </tbody>\n",
       "</table>\n",
       "</div>"
      ],
      "text/plain": [
       "   ABUND  AREA  DIST  LDIST  GRAZE  ALT  YR_ISOL\n",
       "0    5.3   0.1    39     39      2  160     51.5\n",
       "1    2.0   0.5   234    234      5   60      3.5\n",
       "2    1.5   0.5   104    311      5  140    -16.5\n",
       "3   17.1   1.0    66     66      3  160     49.5\n",
       "4   13.8   1.0   246    246      5  140      1.5"
      ]
     },
     "execution_count": 4,
     "metadata": {},
     "output_type": "execute_result"
    }
   ],
   "source": [
    "# Due to an error in the dataset, the YR.ISOL is not the number of years since patch was isolated \n",
    "# but the year since the isolation. We therefore use CYR.ISOL which is the centered number of years since isolation\n",
    "# and add the subtracted mean (33.25 from the book) to get the uncentered values\n",
    "df = df[['ABUND','AREA','DIST', 'LDIST', 'GRAZE', 'ALT', 'CYR.ISOL']]\n",
    "df.columns = ['ABUND','AREA','DIST', 'LDIST', 'GRAZE', 'ALT', 'YR_ISOL']\n",
    "df['YR_ISOL'] = df['YR_ISOL'] + 33.25\n",
    "df.head()"
   ]
  },
  {
   "cell_type": "markdown",
   "metadata": {},
   "source": [
    "### Distribution"
   ]
  },
  {
   "cell_type": "code",
   "execution_count": 5,
   "metadata": {},
   "outputs": [
    {
     "data": {
      "image/png": "[encoded data removed]",
      "text/plain": [
       "<Figure size 1008x576 with 6 Axes>"
      ]
     },
     "metadata": {
      "needs_background": "light"
     },
     "output_type": "display_data"
    }
   ],
   "source": [
    "h = df[['AREA','DIST', 'LDIST', 'GRAZE', 'ALT', 'YR_ISOL']].hist(bins=20, figsize=(14,8))"
   ]
  },
  {
   "cell_type": "markdown",
   "metadata": {},
   "source": [
    "Three of the predictor variables (patch area, distance to nearest patch or dist, distance to nearest larger patch or ldist) "
   ]
  },
  {
   "cell_type": "code",
   "execution_count": 6,
   "metadata": {},
   "outputs": [],
   "source": [
    "df['DIST_log'] = np.log10(df['DIST'])\n",
    "df['LDIST_log'] = np.log10(df['LDIST'])\n",
    "df['AREA_log'] = np.log10(df['AREA'])\n",
    "del df['DIST']\n",
    "del df['LDIST']\n",
    "del df['AREA']"
   ]
  },
  {
   "cell_type": "code",
   "execution_count": 7,
   "metadata": {},
   "outputs": [
    {
     "data": {
      "image/png": "[encoded data removed]",
      "text/plain": [
       "<Figure size 1008x576 with 6 Axes>"
      ]
     },
     "metadata": {
      "needs_background": "light"
     },
     "output_type": "display_data"
    }
   ],
   "source": [
    "h = df[['AREA_log','DIST_log', 'LDIST_log', 'GRAZE', 'ALT', 'YR_ISOL']].hist(bins=20, figsize=(14,8))"
   ]
  },
  {
   "cell_type": "markdown",
   "metadata": {},
   "source": [
    "### Correlation"
   ]
  },
  {
   "cell_type": "code",
   "execution_count": 8,
   "metadata": {},
   "outputs": [
    {
     "data": {
      "text/html": [
       "<div>\n",
       "<style scoped>\n",
       "    .dataframe tbody tr th:only-of-type {\n",
       "        vertical-align: middle;\n",
       "    }\n",
       "\n",
       "    .dataframe tbody tr th {\n",
       "        vertical-align: top;\n",
       "    }\n",
       "\n",
       "    .dataframe thead th {\n",
       "        text-align: right;\n",
       "    }\n",
       "</style>\n",
       "<table border=\"1\" class=\"dataframe\">\n",
       "  <thead>\n",
       "    <tr style=\"text-align: right;\">\n",
       "      <th></th>\n",
       "      <th>AREA_log</th>\n",
       "      <th>DIST_log</th>\n",
       "      <th>LDIST_log</th>\n",
       "      <th>GRAZE</th>\n",
       "      <th>ALT</th>\n",
       "      <th>YR_ISOL</th>\n",
       "    </tr>\n",
       "  </thead>\n",
       "  <tbody>\n",
       "    <tr>\n",
       "      <th>AREA_log</th>\n",
       "      <td>1.000000</td>\n",
       "      <td>0.302167</td>\n",
       "      <td>0.382480</td>\n",
       "      <td>-0.559089</td>\n",
       "      <td>0.275143</td>\n",
       "      <td>0.278415</td>\n",
       "    </tr>\n",
       "    <tr>\n",
       "      <th>DIST_log</th>\n",
       "      <td>0.302167</td>\n",
       "      <td>1.000000</td>\n",
       "      <td>0.603866</td>\n",
       "      <td>-0.142639</td>\n",
       "      <td>-0.219007</td>\n",
       "      <td>-0.019572</td>\n",
       "    </tr>\n",
       "    <tr>\n",
       "      <th>LDIST_log</th>\n",
       "      <td>0.382480</td>\n",
       "      <td>0.603866</td>\n",
       "      <td>1.000000</td>\n",
       "      <td>-0.033991</td>\n",
       "      <td>-0.274044</td>\n",
       "      <td>-0.161116</td>\n",
       "    </tr>\n",
       "    <tr>\n",
       "      <th>GRAZE</th>\n",
       "      <td>-0.559089</td>\n",
       "      <td>-0.142639</td>\n",
       "      <td>-0.033991</td>\n",
       "      <td>1.000000</td>\n",
       "      <td>-0.407167</td>\n",
       "      <td>-0.635567</td>\n",
       "    </tr>\n",
       "    <tr>\n",
       "      <th>ALT</th>\n",
       "      <td>0.275143</td>\n",
       "      <td>-0.219007</td>\n",
       "      <td>-0.274044</td>\n",
       "      <td>-0.407167</td>\n",
       "      <td>1.000000</td>\n",
       "      <td>0.232715</td>\n",
       "    </tr>\n",
       "    <tr>\n",
       "      <th>YR_ISOL</th>\n",
       "      <td>0.278415</td>\n",
       "      <td>-0.019572</td>\n",
       "      <td>-0.161116</td>\n",
       "      <td>-0.635567</td>\n",
       "      <td>0.232715</td>\n",
       "      <td>1.000000</td>\n",
       "    </tr>\n",
       "  </tbody>\n",
       "</table>\n",
       "</div>"
      ],
      "text/plain": [
       "           AREA_log  DIST_log  LDIST_log     GRAZE       ALT   YR_ISOL\n",
       "AREA_log   1.000000  0.302167   0.382480 -0.559089  0.275143  0.278415\n",
       "DIST_log   0.302167  1.000000   0.603866 -0.142639 -0.219007 -0.019572\n",
       "LDIST_log  0.382480  0.603866   1.000000 -0.033991 -0.274044 -0.161116\n",
       "GRAZE     -0.559089 -0.142639  -0.033991  1.000000 -0.407167 -0.635567\n",
       "ALT        0.275143 -0.219007  -0.274044 -0.407167  1.000000  0.232715\n",
       "YR_ISOL    0.278415 -0.019572  -0.161116 -0.635567  0.232715  1.000000"
      ]
     },
     "execution_count": 8,
     "metadata": {},
     "output_type": "execute_result"
    }
   ],
   "source": [
    "df[['AREA_log','DIST_log', 'LDIST_log', 'GRAZE', 'ALT', 'YR_ISOL']].corr()"
   ]
  },
  {
   "cell_type": "code",
   "execution_count": 9,
   "metadata": {},
   "outputs": [
    {
     "data": {
      "text/plain": [
       "<matplotlib.axes._subplots.AxesSubplot at 0x1fd6d5aea58>"
      ]
     },
     "execution_count": 9,
     "metadata": {},
     "output_type": "execute_result"
    },
    {
     "data": {
      "image/png": "[encoded data removed]",
      "text/plain": [
       "<Figure size 432x288 with 2 Axes>"
      ]
     },
     "metadata": {
      "needs_background": "light"
     },
     "output_type": "display_data"
    }
   ],
   "source": [
    "sns.heatmap(df[['AREA_log','DIST_log', 'LDIST_log', 'GRAZE', 'ALT', 'YR_ISOL']].corr())"
   ]
  },
  {
   "cell_type": "markdown",
   "metadata": {},
   "source": [
    "A correlation matrix indicated some moderate correlations between predictors, especially between \n",
    "- $log_{10}(dist)$ and $log_{10}(ldist)$, $log_{10}(area)$ and graze, \n",
    "- graze and years."
   ]
  },
  {
   "cell_type": "markdown",
   "metadata": {},
   "source": [
    "# Multiple linear regression: Part 1\n",
    "As for the data set from Paruelo & Lauenroth (1996), a multiple linear regres- sion model relating abundance of forest birds to all six predictor variables and their interactions would have 64 terms plus an intercept,and would be unwieldy to inter- pret. So an additive model was ﬁtted:  \n",
    "\n",
    "$(bird abundance)_i = \\beta_0 + \\beta_1(log_{10}(area))_i + \\beta_2(log_{10}(dist))_i + \\beta_3(log_{10}(ldist))_i + \\beta_4(grazing)_i + \\beta_5(altitude)_i + \\beta_6(years)_i + \\epsilon_i$"
   ]
  },
  {
   "cell_type": "code",
   "execution_count": 10,
   "metadata": {},
   "outputs": [
    {
     "name": "stdout",
     "output_type": "stream",
     "text": [
      "                            OLS Regression Results                            \n",
      "==============================================================================\n",
      "Dep. Variable:                  ABUND   R-squared:                       0.685\n",
      "Model:                            OLS   Adj. R-squared:                  0.646\n",
      "Method:                 Least Squares   F-statistic:                     17.75\n",
      "Date:                Fri, 03 Jan 2020   Prob (F-statistic):           8.44e-11\n",
      "Time:                        19:46:26   Log-Likelihood:                -179.53\n",
      "No. Observations:                  56   AIC:                             373.1\n",
      "Df Residuals:                      49   BIC:                             387.2\n",
      "Df Model:                           6                                         \n",
      "Covariance Type:            nonrobust                                         \n",
      "==============================================================================\n",
      "                 coef    std err          t      P>|t|      [0.025      0.975]\n",
      "------------------------------------------------------------------------------\n",
      "Intercept     15.8765      9.373      1.694      0.097      -2.960      34.713\n",
      "AREA_log       7.4702      1.465      5.099      0.000       4.526      10.414\n",
      "DIST_log      -0.9070      2.676     -0.339      0.736      -6.284       4.470\n",
      "LDIST_log     -0.6484      2.123     -0.305      0.761      -4.914       3.617\n",
      "GRAZE         -1.6677      0.930     -1.793      0.079      -3.536       0.201\n",
      "ALT            0.0195      0.024      0.814      0.419      -0.029       0.068\n",
      "YR_ISOL        0.0739      0.045      1.634      0.109      -0.017       0.165\n",
      "==============================================================================\n",
      "Omnibus:                        1.372   Durbin-Watson:                   2.038\n",
      "Prob(Omnibus):                  0.504   Jarque-Bera (JB):                0.655\n",
      "Skew:                          -0.001   Prob(JB):                        0.721\n",
      "Kurtosis:                       3.530   Cond. No.                     1.74e+03\n",
      "==============================================================================\n",
      "\n",
      "Warnings:\n",
      "[1] Standard Errors assume that the covariance matrix of the errors is correctly specified.\n",
      "[2] The condition number is large, 1.74e+03. This might indicate that there are\n",
      "strong multicollinearity or other numerical problems.\n"
     ]
    }
   ],
   "source": [
    "ols_result = ols(formula='ABUND~AREA_log+DIST_log+LDIST_log+GRAZE+ALT+YR_ISOL', data=df).fit()\n",
    "print(ols_result.summary())"
   ]
  },
  {
   "cell_type": "markdown",
   "metadata": {},
   "source": [
    "### Model diagnostics"
   ]
  },
  {
   "cell_type": "markdown",
   "metadata": {},
   "source": [
    "**Calculating Tolerance (inverso of Variance Inflaction Factor)**"
   ]
  },
  {
   "cell_type": "code",
   "execution_count": 11,
   "metadata": {},
   "outputs": [],
   "source": [
    "from statsmodels.stats.outliers_influence import variance_inflation_factor"
   ]
  },
  {
   "cell_type": "code",
   "execution_count": 12,
   "metadata": {},
   "outputs": [
    {
     "data": {
      "text/plain": [
       "[('Intercept', 0.00828276737979916),\n",
       " ('AREA_log', 0.5231454328473059),\n",
       " ('DIST_log', 0.6043929883006927),\n",
       " ('LDIST_log', 0.49757455311871435),\n",
       " ('GRAZE', 0.396068816470563),\n",
       " ('ALT', 0.6812282270334273),\n",
       " ('YR_ISOL', 0.5540876183223902)]"
      ]
     },
     "execution_count": 12,
     "metadata": {},
     "output_type": "execute_result"
    }
   ],
   "source": [
    "variables = ols_result.model.exog\n",
    "var_names = ols_result.model.exog_names\n",
    "tollerance = [(var_names[i], 1/variance_inflation_factor(variables, i)) for i in range(variables.shape[1])]\n",
    "tollerance"
   ]
  },
  {
   "cell_type": "markdown",
   "metadata": {},
   "source": [
    "tollarance values for all variables except intercet are above 0.1"
   ]
  },
  {
   "cell_type": "code",
   "execution_count": 13,
   "metadata": {},
   "outputs": [
    {
     "data": {
      "text/plain": [
       "<matplotlib.axes._subplots.AxesSubplot at 0x1fd6d68c470>"
      ]
     },
     "execution_count": 13,
     "metadata": {},
     "output_type": "execute_result"
    },
    {
     "data": {
      "image/png": "[encoded data removed]",
      "text/plain": [
       "<Figure size 432x288 with 1 Axes>"
      ]
     },
     "metadata": {
      "needs_background": "light"
     },
     "output_type": "display_data"
    }
   ],
   "source": [
    "df['ABUND'].hist()"
   ]
  },
  {
   "cell_type": "markdown",
   "metadata": {},
   "source": [
    "The response variable (bird abundance) is not skewed"
   ]
  },
  {
   "cell_type": "code",
   "execution_count": 14,
   "metadata": {},
   "outputs": [
    {
     "data": {
      "text/plain": [
       "Text(0, 0.5, 'Residuals')"
      ]
     },
     "execution_count": 14,
     "metadata": {},
     "output_type": "execute_result"
    },
    {
     "data": {
      "image/png": "[encoded data removed]",
      "text/plain": [
       "<Figure size 1008x432 with 3 Axes>"
      ]
     },
     "metadata": {
      "needs_background": "light"
     },
     "output_type": "display_data"
    }
   ],
   "source": [
    "fig, ax = plt.subplots(ncols=3, figsize=(14,6))\n",
    "ax[0].hist(ols_result.fittedvalues)\n",
    "ax[0].set_xlabel('Predicted values')\n",
    "ax[1].hist(ols_result.resid)\n",
    "ax[1].set_ylabel('Residuals')\n",
    "ax[2].scatter(ols_result.fittedvalues, ols_result.resid, marker='o')\n",
    "ax[2].set_xlabel('Predicted values')\n",
    "ax[2].set_ylabel('Residuals')"
   ]
  },
  {
   "cell_type": "markdown",
   "metadata": {},
   "source": [
    "The boxplot of residuals was reasonably symmetrical and although there was some heterogeneity of spread of residuals when plotted against predicted values,"
   ]
  },
  {
   "cell_type": "markdown",
   "metadata": {},
   "source": [
    "There was a signiﬁcant positive partial regression slope for bird **abundance** against $log_{10}(area)$. No other partial regression slopes were signiﬁcant."
   ]
  },
  {
   "cell_type": "markdown",
   "metadata": {},
   "source": [
    "The H0 that all partial regression slopes equal zero was also rejected."
   ]
  },
  {
   "cell_type": "markdown",
   "metadata": {},
   "source": [
    "# Multiple linear regression: Part 2\n",
    "Now we will ﬁt a second model to investigate possible interactions between predictor variables. A model with six predictors plus interactions is unwieldy so we will simplify the model ﬁrst by omitting those predictors that contributed little to the original model ($log_{10}(dist)$, $log_{10}(ldist)$, **altitude**). The ﬁrst two were correlated with each other and with $log_{10}(area)$ anyway. Reﬁtting the additive model with these three predictors omitted changed the estimated regression slopes of the remaining terms only slightly, suggesting that any bias in the estimates of the remaining predictors from omitting other predictors is small. The final model is:  \n",
    "\n",
    "$(bird abundance)_i = \\beta_0 + \\beta_1(log_{10}(area))_i + \\beta_2(grazing)_i + \\beta_3(years)_i + \\beta_4(log_{10}(area)\\cdot grazing)_i + \\beta_5(log_{10}(area)\\cdot years)_i + \\beta_6(grazing\\cdot years)_i + \\beta_7(log_{10}(area) \\cdot grazing \\cdot years)_i + \\epsilon_i$"
   ]
  },
  {
   "cell_type": "code",
   "execution_count": 15,
   "metadata": {},
   "outputs": [],
   "source": [
    "ols_result_2 = ols(formula=\n",
    "                   'ABUND~AREA_log+GRAZE+YR_ISOL+AREA_log*GRAZE+AREA_log*YR_ISOL+GRAZE*YR_ISOL+AREA_log*GRAZE*YR_ISOL', \n",
    "                  data=df).fit()"
   ]
  },
  {
   "cell_type": "code",
   "execution_count": 16,
   "metadata": {},
   "outputs": [
    {
     "name": "stdout",
     "output_type": "stream",
     "text": [
      "                            OLS Regression Results                            \n",
      "==============================================================================\n",
      "Dep. Variable:                  ABUND   R-squared:                       0.757\n",
      "Model:                            OLS   Adj. R-squared:                  0.721\n",
      "Method:                 Least Squares   F-statistic:                     21.31\n",
      "Date:                Fri, 03 Jan 2020   Prob (F-statistic):           9.76e-13\n",
      "Time:                        19:46:27   Log-Likelihood:                -172.31\n",
      "No. Observations:                  56   AIC:                             360.6\n",
      "Df Residuals:                      48   BIC:                             376.8\n",
      "Df Model:                           7                                         \n",
      "Covariance Type:            nonrobust                                         \n",
      "==========================================================================================\n",
      "                             coef    std err          t      P>|t|      [0.025      0.975]\n",
      "------------------------------------------------------------------------------------------\n",
      "Intercept                 47.6385     10.264      4.641      0.000      27.001      68.276\n",
      "AREA_log                  -5.2359      5.008     -1.046      0.301     -15.305       4.833\n",
      "GRAZE                     -8.7343      2.134     -4.093      0.000     -13.025      -4.444\n",
      "YR_ISOL                   -0.4646      0.211     -2.198      0.033      -0.890      -0.040\n",
      "AREA_log:GRAZE             2.5546      1.187      2.153      0.036       0.169       4.940\n",
      "AREA_log:YR_ISOL           0.1395      0.115      1.214      0.231      -0.092       0.371\n",
      "GRAZE:YR_ISOL              0.0911      0.048      1.910      0.062      -0.005       0.187\n",
      "AREA_log:GRAZE:YR_ISOL     0.0112      0.034      0.329      0.743      -0.057       0.079\n",
      "==============================================================================\n",
      "Omnibus:                        5.101   Durbin-Watson:                   2.335\n",
      "Prob(Omnibus):                  0.078   Jarque-Bera (JB):                5.586\n",
      "Skew:                          -0.273   Prob(JB):                       0.0612\n",
      "Kurtosis:                       4.448   Cond. No.                     2.39e+03\n",
      "==============================================================================\n",
      "\n",
      "Warnings:\n",
      "[1] Standard Errors assume that the covariance matrix of the errors is correctly specified.\n",
      "[2] The condition number is large, 2.39e+03. This might indicate that there are\n",
      "strong multicollinearity or other numerical problems.\n"
     ]
    }
   ],
   "source": [
    "print(ols_result_2.summary())"
   ]
  },
  {
   "cell_type": "code",
   "execution_count": 17,
   "metadata": {},
   "outputs": [
    {
     "data": {
      "text/plain": [
       "[('Intercept', 0.00544851659486123),\n",
       " ('AREA_log', 0.03530856637525848),\n",
       " ('GRAZE', 0.05933387908289989),\n",
       " ('YR_ISOL', 0.019993322528678803),\n",
       " ('AREA_log:GRAZE', 0.11854784376454364),\n",
       " ('AREA_log:YR_ISOL', 0.0282311540293757),\n",
       " ('GRAZE:YR_ISOL', 0.03625929095490299),\n",
       " ('AREA_log:GRAZE:YR_ISOL', 0.0749013663902649)]"
      ]
     },
     "execution_count": 17,
     "metadata": {},
     "output_type": "execute_result"
    }
   ],
   "source": [
    "variables = ols_result_2.model.exog\n",
    "var_names = ols_result_2.model.exog_names\n",
    "tollerance = [(var_names[i], 1/variance_inflation_factor(variables, i)) for i in range(variables.shape[1])]\n",
    "tollerance"
   ]
  },
  {
   "cell_type": "markdown",
   "metadata": {},
   "source": [
    "Tollerance extremly smal, so we center the predictor variables"
   ]
  },
  {
   "cell_type": "code",
   "execution_count": 18,
   "metadata": {},
   "outputs": [],
   "source": [
    "df_center = df.copy()\n",
    "df_center = df_center.apply(lambda col: col-np.mean(col))\n",
    "df_center['ABUND'] = df['ABUND']"
   ]
  },
  {
   "cell_type": "code",
   "execution_count": 19,
   "metadata": {},
   "outputs": [
    {
     "name": "stdout",
     "output_type": "stream",
     "text": [
      "                            OLS Regression Results                            \n",
      "==============================================================================\n",
      "Dep. Variable:                  ABUND   R-squared:                       0.757\n",
      "Model:                            OLS   Adj. R-squared:                  0.721\n",
      "Method:                 Least Squares   F-statistic:                     21.31\n",
      "Date:                Fri, 03 Jan 2020   Prob (F-statistic):           9.76e-13\n",
      "Time:                        19:46:27   Log-Likelihood:                -172.31\n",
      "No. Observations:                  56   AIC:                             360.6\n",
      "Df Residuals:                      48   BIC:                             376.8\n",
      "Df Model:                           7                                         \n",
      "Covariance Type:            nonrobust                                         \n",
      "==========================================================================================\n",
      "                             coef    std err          t      P>|t|      [0.025      0.975]\n",
      "------------------------------------------------------------------------------------------\n",
      "Intercept                 22.7494      1.152     19.755      0.000      20.434      25.065\n",
      "AREA_log                   8.1282      1.540      5.277      0.000       5.031      11.225\n",
      "GRAZE                     -2.9793      0.837     -3.560      0.001      -4.662      -1.297\n",
      "YR_ISOL                   -0.0319      0.057     -0.565      0.574      -0.146       0.082\n",
      "AREA_log:GRAZE             2.9257      0.932      3.141      0.003       1.053       4.799\n",
      "AREA_log:YR_ISOL           0.1728      0.063      2.748      0.008       0.046       0.299\n",
      "GRAZE:YR_ISOL              0.1015      0.035      2.901      0.006       0.031       0.172\n",
      "AREA_log:GRAZE:YR_ISOL     0.0112      0.034      0.329      0.743      -0.057       0.079\n",
      "==============================================================================\n",
      "Omnibus:                        5.101   Durbin-Watson:                   2.335\n",
      "Prob(Omnibus):                  0.078   Jarque-Bera (JB):                5.586\n",
      "Skew:                          -0.273   Prob(JB):                       0.0612\n",
      "Kurtosis:                       4.448   Cond. No.                         117.\n",
      "==============================================================================\n",
      "\n",
      "Warnings:\n",
      "[1] Standard Errors assume that the covariance matrix of the errors is correctly specified.\n"
     ]
    }
   ],
   "source": [
    "ols_result_3 = ols(formula=\n",
    "                   'ABUND~AREA_log+GRAZE+YR_ISOL+AREA_log*GRAZE+AREA_log*YR_ISOL+GRAZE*YR_ISOL+AREA_log*GRAZE*YR_ISOL', \n",
    "                  data=df_center).fit()\n",
    "print(ols_result_3.summary())"
   ]
  },
  {
   "cell_type": "code",
   "execution_count": 20,
   "metadata": {},
   "outputs": [
    {
     "data": {
      "text/plain": [
       "[('Intercept', 0.432827261836776),\n",
       " ('AREA_log', 0.3732068601966364),\n",
       " ('GRAZE', 0.3857992014022803),\n",
       " ('YR_ISOL', 0.2796518676415165),\n",
       " ('AREA_log:GRAZE', 0.4500934303475065),\n",
       " ('AREA_log:YR_ISOL', 0.41105084308104556),\n",
       " ('GRAZE:YR_ISOL', 0.36195832043609477),\n",
       " ('AREA_log:GRAZE:YR_ISOL', 0.39730984850986806)]"
      ]
     },
     "execution_count": 20,
     "metadata": {},
     "output_type": "execute_result"
    }
   ],
   "source": [
    "variables = ols_result_3.model.exog\n",
    "var_names = ols_result_3.model.exog_names\n",
    "tollerance = [(var_names[i], 1/variance_inflation_factor(variables, i)) for i in range(variables.shape[1])]\n",
    "tollerance"
   ]
  },
  {
   "cell_type": "markdown",
   "metadata": {},
   "source": [
    "The three-way interaction was not signiﬁcant so we will focus on the two-way interactions."
   ]
  },
  {
   "cell_type": "markdown",
   "metadata": {},
   "source": [
    "The $log_{10}(area)$ x **grazing** term indicates how much the effect of grazing on bird density depends on $log_{10}(area)$.\n",
    "- This interaction is signiﬁcant, so we might want to look at simple effects of grazing on bird density for different values of $log_{10}(area)$. \n",
    "- We chose mean $log_{10}(area)$ (0.932) $\\pm$ one standard deviation (0.120, 1.744).  \n",
    "- Because the three-way interaction was not signiﬁcant, we simply set years since isolation to its mean value (33.25).  \n",
    "- We could also just have ignored years since isolation and calculated simple slopes as for a two predictor model and got similar patterns.  \n",
    "- The simple slopes of bird abundance against grazing for different $log_{10}(area)$ values and mean of years since isolation were as follows."
   ]
  },
  {
   "cell_type": "markdown",
   "metadata": {},
   "source": [
    "**To get the statistics for probing this interaction, we use the following procedure:**\n",
    "1. Create a copy of the dataset used for fitting the model\n",
    "2. Subtract the particular values from each \"fixed\" variable \n",
    "    - In our example we want to analyze the effect of grazing on bird abundance while fixing $log_{10}(area)$ and years sins isolation\n",
    "    - we therefore subtract the fixed values \n",
    "        - **33.25** for YR_ISOL if we use uncentered values, otherwise the mean is already subtracted\n",
    "        - mean of log-area $\\pm$ **0.12** / **1.744** for log_area) from the initial values\n",
    "3. Fit the same model whit the new dataset\n",
    "4. The partial slope of abundance on grazing and all related statistics can be extracted from the grazing row\n",
    "    "
   ]
  },
  {
   "cell_type": "code",
   "execution_count": 21,
   "metadata": {},
   "outputs": [],
   "source": [
    "# Example for centerd data. We dont have to subtract the mean \n",
    "df2 = df_center.copy()\n",
    "df2.loc[:,'AREA_log'] = df2['AREA_log'] + np.std(df2['AREA_log'])"
   ]
  },
  {
   "cell_type": "code",
   "execution_count": 22,
   "metadata": {},
   "outputs": [],
   "source": [
    "# # Example for uncentered data\n",
    "# df2 = df.copy()\n",
    "# df2.loc[:,'YR_ISOL'] = df2['YR_ISOL'] - np.mean(df2['YR_ISOL'])\n",
    "# df2.loc[:,'AREA_log'] = df2['AREA_log'] - (np.mean(df2['AREA_log']) - np.std(df2['AREA_log']))"
   ]
  },
  {
   "cell_type": "code",
   "execution_count": 23,
   "metadata": {},
   "outputs": [
    {
     "name": "stdout",
     "output_type": "stream",
     "text": [
      "                            OLS Regression Results                            \n",
      "==============================================================================\n",
      "Dep. Variable:                  ABUND   R-squared:                       0.757\n",
      "Model:                            OLS   Adj. R-squared:                  0.721\n",
      "Method:                 Least Squares   F-statistic:                     21.31\n",
      "Date:                Fri, 03 Jan 2020   Prob (F-statistic):           9.76e-13\n",
      "Time:                        19:46:27   Log-Likelihood:                -172.31\n",
      "No. Observations:                  56   AIC:                             360.6\n",
      "Df Residuals:                      48   BIC:                             376.8\n",
      "Df Model:                           7                                         \n",
      "Covariance Type:            nonrobust                                         \n",
      "==========================================================================================\n",
      "                             coef    std err          t      P>|t|      [0.025      0.975]\n",
      "------------------------------------------------------------------------------------------\n",
      "Intercept                 16.2052      1.704      9.512      0.000      12.780      19.630\n",
      "AREA_log                   8.1282      1.540      5.277      0.000       5.031      11.225\n",
      "GRAZE                     -5.3348      1.219     -4.378      0.000      -7.785      -2.885\n",
      "YR_ISOL                   -0.1711      0.082     -2.080      0.043      -0.336      -0.006\n",
      "AREA_log:GRAZE             2.9257      0.932      3.141      0.003       1.053       4.799\n",
      "AREA_log:YR_ISOL           0.1728      0.063      2.748      0.008       0.046       0.299\n",
      "GRAZE:YR_ISOL              0.0925      0.045      2.061      0.045       0.002       0.183\n",
      "AREA_log:GRAZE:YR_ISOL     0.0112      0.034      0.329      0.743      -0.057       0.079\n",
      "==============================================================================\n",
      "Omnibus:                        5.101   Durbin-Watson:                   2.335\n",
      "Prob(Omnibus):                  0.078   Jarque-Bera (JB):                5.586\n",
      "Skew:                          -0.273   Prob(JB):                       0.0612\n",
      "Kurtosis:                       4.448   Cond. No.                         142.\n",
      "==============================================================================\n",
      "\n",
      "Warnings:\n",
      "[1] Standard Errors assume that the covariance matrix of the errors is correctly specified.\n"
     ]
    }
   ],
   "source": [
    "ols_result_4 = ols(formula=\n",
    "                   'ABUND~AREA_log+GRAZE+YR_ISOL+AREA_log*GRAZE+AREA_log*YR_ISOL+GRAZE*YR_ISOL+AREA_log*GRAZE*YR_ISOL', \n",
    "#                    'ABUND~GRAZE+AREA_log+GRAZE*AREA_log',\n",
    "                  data=df2).fit()\n",
    "print(ols_result_4.summary())"
   ]
  },
  {
   "cell_type": "code",
   "execution_count": null,
   "metadata": {},
   "outputs": [],
   "source": []
  }
 ],
 "metadata": {
  "kernelspec": {
   "display_name": "Python 3",
   "language": "python",
   "name": "python3"
  },
  "language_info": {
   "codemirror_mode": {
    "name": "ipython",
    "version": 3
   },
   "file_extension": ".py",
   "mimetype": "text/x-python",
   "name": "python",
   "nbconvert_exporter": "python",
   "pygments_lexer": "ipython3",
   "version": "3.6.9"
  }
 },
 "nbformat": 4,
 "nbformat_minor": 2
}
