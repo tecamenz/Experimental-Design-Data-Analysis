{
 "cells": [
  {
   "cell_type": "markdown",
   "metadata": {},
   "source": [
    "# Box 6.2: Worked example of polynomial regression\n",
    "Data set from Caley & Schluter (1997), examining the regression of local species richness against regional species richness just for North America and at a sampling scale of 10% of the region."
   ]
  },
  {
   "cell_type": "code",
   "execution_count": 1,
   "metadata": {},
   "outputs": [],
   "source": [
    "%matplotlib inline\n",
    "\n",
    "import numpy as np\n",
    "import pandas as pd \n",
    "import matplotlib.pyplot as plt\n",
    "import scipy.stats as stats\n",
    "import statsmodels.api as sm\n",
    "from statsmodels.formula.api import ols\n",
    "import seaborn as sns"
   ]
  },
  {
   "cell_type": "markdown",
   "metadata": {},
   "source": [
    "# Load data"
   ]
  },
  {
   "cell_type": "code",
   "execution_count": 2,
   "metadata": {},
   "outputs": [],
   "source": [
    "df = pd.read_csv('../../data/chpt6/caley.csv')"
   ]
  },
  {
   "cell_type": "code",
   "execution_count": 3,
   "metadata": {},
   "outputs": [
    {
     "data": {
      "text/html": [
       "<div>\n",
       "<style scoped>\n",
       "    .dataframe tbody tr th:only-of-type {\n",
       "        vertical-align: middle;\n",
       "    }\n",
       "\n",
       "    .dataframe tbody tr th {\n",
       "        vertical-align: top;\n",
       "    }\n",
       "\n",
       "    .dataframe thead th {\n",
       "        text-align: right;\n",
       "    }\n",
       "</style>\n",
       "<table border=\"1\" class=\"dataframe\">\n",
       "  <thead>\n",
       "    <tr style=\"text-align: right;\">\n",
       "      <th></th>\n",
       "      <th>TAXON</th>\n",
       "      <th>LSPP10</th>\n",
       "      <th>RSPP10</th>\n",
       "    </tr>\n",
       "  </thead>\n",
       "  <tbody>\n",
       "    <tr>\n",
       "      <th>0</th>\n",
       "      <td>AMPH</td>\n",
       "      <td>6</td>\n",
       "      <td>9</td>\n",
       "    </tr>\n",
       "    <tr>\n",
       "      <th>1</th>\n",
       "      <td>BIRDS</td>\n",
       "      <td>187</td>\n",
       "      <td>207</td>\n",
       "    </tr>\n",
       "    <tr>\n",
       "      <th>2</th>\n",
       "      <td>BUTTER</td>\n",
       "      <td>103</td>\n",
       "      <td>145</td>\n",
       "    </tr>\n",
       "    <tr>\n",
       "      <th>3</th>\n",
       "      <td>FISH</td>\n",
       "      <td>26</td>\n",
       "      <td>36</td>\n",
       "    </tr>\n",
       "    <tr>\n",
       "      <th>4</th>\n",
       "      <td>MAMMALS</td>\n",
       "      <td>66</td>\n",
       "      <td>117</td>\n",
       "    </tr>\n",
       "  </tbody>\n",
       "</table>\n",
       "</div>"
      ],
      "text/plain": [
       "     TAXON  LSPP10  RSPP10\n",
       "0     AMPH       6       9\n",
       "1    BIRDS     187     207\n",
       "2   BUTTER     103     145\n",
       "3     FISH      26      36\n",
       "4  MAMMALS      66     117"
      ]
     },
     "execution_count": 3,
     "metadata": {},
     "output_type": "execute_result"
    }
   ],
   "source": [
    "df.head()"
   ]
  },
  {
   "cell_type": "markdown",
   "metadata": {},
   "source": [
    "\t* TAXON - taxanomic group\n",
    "\t* LSPP10 - local species richness at a sampling scale of 10% of North American region\n",
    "\t* RSPP10 - regional species richness at a sampling scale of 10% of North American region"
   ]
  },
  {
   "cell_type": "markdown",
   "metadata": {},
   "source": [
    "### Distribution"
   ]
  },
  {
   "cell_type": "code",
   "execution_count": 4,
   "metadata": {},
   "outputs": [
    {
     "data": {
      "image/png": "[encoded data removed]",
      "text/plain": [
       "<Figure size 1008x432 with 2 Axes>"
      ]
     },
     "metadata": {
      "needs_background": "light"
     },
     "output_type": "display_data"
    }
   ],
   "source": [
    "h = df[['LSPP10','RSPP10']].hist(figsize=(14,6))"
   ]
  },
  {
   "cell_type": "markdown",
   "metadata": {},
   "source": [
    "Although there was some evidence that both local and regional species richness were skewed, we will, like the original authors, analyze untransformed variables."
   ]
  },
  {
   "cell_type": "markdown",
   "metadata": {},
   "source": [
    "# Polynomial (full) model:\n",
    "First, we will ﬁt a second-order polynomial to the data:\n",
    "\n",
    "$(local species richness)_i = \\beta_0 + \\beta_1(regional species richness)_i + \\beta_2(regional species richness)^2_i + \\epsilon_i$"
   ]
  },
  {
   "cell_type": "code",
   "execution_count": 5,
   "metadata": {},
   "outputs": [
    {
     "name": "stdout",
     "output_type": "stream",
     "text": [
      "                            OLS Regression Results                            \n",
      "==============================================================================\n",
      "Dep. Variable:                 LSPP10   R-squared:                       0.987\n",
      "Model:                            OLS   Adj. R-squared:                  0.981\n",
      "Method:                 Least Squares   F-statistic:                     184.6\n",
      "Date:                Sun, 05 Jan 2020   Prob (F-statistic):           2.06e-05\n",
      "Time:                        17:42:30   Log-Likelihood:                -26.759\n",
      "No. Observations:                   8   AIC:                             59.52\n",
      "Df Residuals:                       5   BIC:                             59.76\n",
      "Df Model:                           2                                         \n",
      "Covariance Type:            nonrobust                                         \n",
      "==================================================================================\n",
      "                     coef    std err          t      P>|t|      [0.025      0.975]\n",
      "----------------------------------------------------------------------------------\n",
      "Intercept          8.1242      6.749      1.204      0.283      -9.224      25.473\n",
      "RSPP10             0.2489      0.170      1.463      0.203      -0.188       0.686\n",
      "I(RSPP10 ** 2)     0.0028      0.001      3.500      0.017       0.001       0.005\n",
      "==============================================================================\n",
      "Omnibus:                        0.465   Durbin-Watson:                   3.387\n",
      "Prob(Omnibus):                  0.793   Jarque-Bera (JB):                0.401\n",
      "Skew:                           0.404   Prob(JB):                        0.818\n",
      "Kurtosis:                       2.257   Cond. No.                     4.52e+04\n",
      "==============================================================================\n",
      "\n",
      "Warnings:\n",
      "[1] Standard Errors assume that the covariance matrix of the errors is correctly specified.\n",
      "[2] The condition number is large, 4.52e+04. This might indicate that there are\n",
      "strong multicollinearity or other numerical problems.\n"
     ]
    },
    {
     "name": "stderr",
     "output_type": "stream",
     "text": [
      "C:\\Users\\Cami\\Anaconda3\\envs\\stat\\lib\\site-packages\\scipy\\stats\\stats.py:1450: UserWarning: kurtosistest only valid for n>=20 ... continuing anyway, n=8\n",
      "  \"anyway, n=%i\" % int(n))\n"
     ]
    }
   ],
   "source": [
    "ols_result_full = ols(formula='LSPP10~RSPP10+I(RSPP10**2)', data=df).fit()\n",
    "# The I(...) basically says \"patsy, please stop being clever here and just let Python handle everything inside kthx\"\n",
    "print(ols_result_full.summary())"
   ]
  },
  {
   "cell_type": "markdown",
   "metadata": {},
   "source": [
    "The high condiction number (4.52e+04) indicates high collinearity between regional species richness and (regional species richness)^2 as we would expect. This collinearity might affect the estimate and test of $b_1$ but won’t affect the partitioning of the variance and the calculation of $SS_{Extra}$ $[(regional species richness)^2 | regional species richness]$, so we, like Caley & Schluter (1997) will continue the analysis with uncentered data."
   ]
  },
  {
   "cell_type": "markdown",
   "metadata": {},
   "source": [
    "### ANOVA partitioning\n",
    "Statsmodels **sm.stats.anova_lm** outputs:\n",
    "- **sum_sq:** The SS_Extra (SS of full model minus SS with parameter omitted) for each model term. Additionally it provides the SS of Residuals)"
   ]
  },
  {
   "cell_type": "code",
   "execution_count": 6,
   "metadata": {},
   "outputs": [
    {
     "data": {
      "text/html": [
       "<div>\n",
       "<style scoped>\n",
       "    .dataframe tbody tr th:only-of-type {\n",
       "        vertical-align: middle;\n",
       "    }\n",
       "\n",
       "    .dataframe tbody tr th {\n",
       "        vertical-align: top;\n",
       "    }\n",
       "\n",
       "    .dataframe thead th {\n",
       "        text-align: right;\n",
       "    }\n",
       "</style>\n",
       "<table border=\"1\" class=\"dataframe\">\n",
       "  <thead>\n",
       "    <tr style=\"text-align: right;\">\n",
       "      <th></th>\n",
       "      <th>sum_sq</th>\n",
       "      <th>df</th>\n",
       "      <th>F</th>\n",
       "      <th>PR(&gt;F)</th>\n",
       "    </tr>\n",
       "  </thead>\n",
       "  <tbody>\n",
       "    <tr>\n",
       "      <th>RSPP10</th>\n",
       "      <td>161.319282</td>\n",
       "      <td>1.0</td>\n",
       "      <td>2.141670</td>\n",
       "      <td>0.203216</td>\n",
       "    </tr>\n",
       "    <tr>\n",
       "      <th>I(RSPP10 ** 2)</th>\n",
       "      <td>922.636791</td>\n",
       "      <td>1.0</td>\n",
       "      <td>12.248899</td>\n",
       "      <td>0.017287</td>\n",
       "    </tr>\n",
       "    <tr>\n",
       "      <th>Residual</th>\n",
       "      <td>376.620287</td>\n",
       "      <td>5.0</td>\n",
       "      <td>NaN</td>\n",
       "      <td>NaN</td>\n",
       "    </tr>\n",
       "  </tbody>\n",
       "</table>\n",
       "</div>"
      ],
      "text/plain": [
       "                    sum_sq   df          F    PR(>F)\n",
       "RSPP10          161.319282  1.0   2.141670  0.203216\n",
       "I(RSPP10 ** 2)  922.636791  1.0  12.248899  0.017287\n",
       "Residual        376.620287  5.0        NaN       NaN"
      ]
     },
     "execution_count": 6,
     "metadata": {},
     "output_type": "execute_result"
    }
   ],
   "source": [
    "anova_full = sm.stats.anova_lm(ols_result_full, typ=2)\n",
    "anova_full"
   ]
  },
  {
   "cell_type": "markdown",
   "metadata": {},
   "source": [
    "The $SS_{Extra}$ is 922.7 with one df and F $[(regional species richness)^2 | regional species richness]$ equals 12.249 with P < 0.018. We would conclude that adding the second-order polynomial term to this model contributes signiﬁcantly to explained variation in local species richness."
   ]
  },
  {
   "cell_type": "markdown",
   "metadata": {},
   "source": [
    "### Manual Calculation\n",
    "Partial F test, to test the $H_0$ that a single partialregression slope equals zero:\n",
    "- $F_{df,n-p}=\\frac{MS_{Extra}}{Full MS_{Residual}}$\n",
    "    -  df: the number of predictor variables in the full model minus thenumber of predictor variables in the reducedmodel. Because we only test for a single regression parameter, this will be 1 \n",
    "    - p: the number of predictor variables\n",
    "    - n: the number of observations"
   ]
  },
  {
   "cell_type": "code",
   "execution_count": 7,
   "metadata": {},
   "outputs": [],
   "source": [
    "ols_result_reduced = ols(formula=\"LSPP10~RSPP10\", data=df).fit()"
   ]
  },
  {
   "cell_type": "code",
   "execution_count": 8,
   "metadata": {},
   "outputs": [
    {
     "name": "stdout",
     "output_type": "stream",
     "text": [
      "SS_Reg_Full: 27806.879712622926\n",
      "SS_Res_Full: 376.62028737707607\n",
      "SS_Reg_Red: 26884.242921571167\n",
      "SS_Res_Red: 1299.2570784288337\n"
     ]
    }
   ],
   "source": [
    "# Explained / Regression sum of sqares of the full model\n",
    "SS_Reg_Full = ols_result_full.ess\n",
    "# Residual sum of sqares of the full model\n",
    "SS_Res_Full = ols_result_full.ssr\n",
    "\n",
    "# Explained / Regression sum of sqares of the reduced model\n",
    "SS_Reg_Red = ols_result_reduced.ess\n",
    "# Residual sum of sqares of the reduced model\n",
    "SS_Res_Red = ols_result_reduced.ssr\n",
    "\n",
    "print('SS_Reg_Full: {}'.format(SS_Reg_Full))\n",
    "print('SS_Res_Full: {}'.format(SS_Res_Full))\n",
    "print('SS_Reg_Red: {}'.format(SS_Reg_Red))\n",
    "print('SS_Res_Red: {}'.format(SS_Res_Red))"
   ]
  },
  {
   "cell_type": "code",
   "execution_count": 9,
   "metadata": {},
   "outputs": [
    {
     "name": "stdout",
     "output_type": "stream",
     "text": [
      "SS_Reg_Extra: 922.6367910517583\n"
     ]
    }
   ],
   "source": [
    "# Calculating the extra sum of sqares when comparing full with reduced model\n",
    "SS_Reg_Extra = SS_Reg_Full-SS_Reg_Red\n",
    "print('SS_Reg_Extra: {}'.format(SS_Reg_Extra))"
   ]
  },
  {
   "cell_type": "code",
   "execution_count": 10,
   "metadata": {},
   "outputs": [
    {
     "name": "stdout",
     "output_type": "stream",
     "text": [
      "MS_Extra: 922.6367910517583\n"
     ]
    }
   ],
   "source": [
    "# Convert sum of sqares to MS by dividing by df  (number of parameters full-model - number of parameters of reduced-model)\n",
    "MS_Extra = SS_Reg_Extra/(ols_result_full.df_model-ols_result_reduced.df_model)\n",
    "print('MS_Extra: {}'.format(MS_Extra))"
   ]
  },
  {
   "cell_type": "code",
   "execution_count": 11,
   "metadata": {},
   "outputs": [
    {
     "name": "stdout",
     "output_type": "stream",
     "text": [
      "MS_Residuals: 75.32405747541522\n"
     ]
    }
   ],
   "source": [
    "# get the MSE of residuals\n",
    "MS_Res = ols_result_full.mse_resid\n",
    "print('MS_Residuals: {}'.format(MS_Res))"
   ]
  },
  {
   "cell_type": "code",
   "execution_count": 12,
   "metadata": {},
   "outputs": [
    {
     "name": "stdout",
     "output_type": "stream",
     "text": [
      "F: 12.248899249126282\n"
     ]
    }
   ],
   "source": [
    "# Calculate F-Statistics\n",
    "F = MS_Extra/MS_Res\n",
    "print('F: {}'.format(F))"
   ]
  },
  {
   "cell_type": "code",
   "execution_count": 13,
   "metadata": {},
   "outputs": [
    {
     "data": {
      "text/plain": [
       "0.01728733948059402"
      ]
     },
     "execution_count": 13,
     "metadata": {},
     "output_type": "execute_result"
    }
   ],
   "source": [
    "# Calculate probability\n",
    "df1 = 1 # degree of freedom of MS_Extra. Num of param full - num of param reduced model \n",
    "df2 = 5 # degree of freedom of Residuals. (n-p-1) We have 8 observations and 2 parameters (full model) = 8-2-1=5\n",
    "1-stats.f.cdf(F, 1, 5)"
   ]
  }
 ],
 "metadata": {
  "kernelspec": {
   "display_name": "Python 3",
   "language": "python",
   "name": "python3"
  },
  "language_info": {
   "codemirror_mode": {
    "name": "ipython",
    "version": 3
   },
   "file_extension": ".py",
   "mimetype": "text/x-python",
   "name": "python",
   "nbconvert_exporter": "python",
   "pygments_lexer": "ipython3",
   "version": "3.6.9"
  }
 },
 "nbformat": 4,
 "nbformat_minor": 2
}
