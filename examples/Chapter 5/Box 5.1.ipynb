{
 "cells": [
  {
   "cell_type": "markdown",
   "metadata": {},
   "source": [
    "# Box 5.1: Worked example: crab and burrow density on Christmas Island\n",
    "Green (1997) studied the ecology of red land crabs on Christmas Island and examined the relationship between the total biomass of red land crabs and the density of their burrows within 25m^2 quadrats (sampling units) at ﬁve forested sites on the island. We will look at two of these sites."
   ]
  },
  {
   "cell_type": "code",
   "execution_count": 1,
   "metadata": {},
   "outputs": [],
   "source": [
    "%matplotlib inline\n",
    "\n",
    "import numpy as np\n",
    "import pandas as pd \n",
    "import matplotlib.pyplot as plt\n",
    "import scipy.stats as stats\n",
    "import statsmodels.stats.api as sms"
   ]
  },
  {
   "cell_type": "markdown",
   "metadata": {},
   "source": [
    "### Load data"
   ]
  },
  {
   "cell_type": "code",
   "execution_count": 2,
   "metadata": {},
   "outputs": [],
   "source": [
    "df = pd.read_csv('../../data/chpt5/green.csv')"
   ]
  },
  {
   "cell_type": "code",
   "execution_count": 3,
   "metadata": {},
   "outputs": [
    {
     "data": {
      "text/html": [
       "<div>\n",
       "<style scoped>\n",
       "    .dataframe tbody tr th:only-of-type {\n",
       "        vertical-align: middle;\n",
       "    }\n",
       "\n",
       "    .dataframe tbody tr th {\n",
       "        vertical-align: top;\n",
       "    }\n",
       "\n",
       "    .dataframe thead th {\n",
       "        text-align: right;\n",
       "    }\n",
       "</style>\n",
       "<table border=\"1\" class=\"dataframe\">\n",
       "  <thead>\n",
       "    <tr style=\"text-align: right;\">\n",
       "      <th></th>\n",
       "      <th>SITE</th>\n",
       "      <th>QUADNUM</th>\n",
       "      <th>TOTMASS</th>\n",
       "      <th>BURROWS</th>\n",
       "    </tr>\n",
       "  </thead>\n",
       "  <tbody>\n",
       "    <tr>\n",
       "      <th>0</th>\n",
       "      <td>DS</td>\n",
       "      <td>1</td>\n",
       "      <td>2.15</td>\n",
       "      <td>39</td>\n",
       "    </tr>\n",
       "    <tr>\n",
       "      <th>1</th>\n",
       "      <td>DS</td>\n",
       "      <td>2</td>\n",
       "      <td>2.27</td>\n",
       "      <td>38</td>\n",
       "    </tr>\n",
       "    <tr>\n",
       "      <th>2</th>\n",
       "      <td>DS</td>\n",
       "      <td>3</td>\n",
       "      <td>4.31</td>\n",
       "      <td>61</td>\n",
       "    </tr>\n",
       "    <tr>\n",
       "      <th>3</th>\n",
       "      <td>DS</td>\n",
       "      <td>4</td>\n",
       "      <td>2.58</td>\n",
       "      <td>79</td>\n",
       "    </tr>\n",
       "    <tr>\n",
       "      <th>4</th>\n",
       "      <td>DS</td>\n",
       "      <td>5</td>\n",
       "      <td>3.23</td>\n",
       "      <td>35</td>\n",
       "    </tr>\n",
       "  </tbody>\n",
       "</table>\n",
       "</div>"
      ],
      "text/plain": [
       "  SITE  QUADNUM  TOTMASS  BURROWS\n",
       "0   DS        1     2.15       39\n",
       "1   DS        2     2.27       38\n",
       "2   DS        3     4.31       61\n",
       "3   DS        4     2.58       79\n",
       "4   DS        5     3.23       35"
      ]
     },
     "execution_count": 3,
     "metadata": {},
     "output_type": "execute_result"
    }
   ],
   "source": [
    "df.head()"
   ]
  },
  {
   "cell_type": "code",
   "execution_count": 4,
   "metadata": {
    "collapsed": true
   },
   "outputs": [],
   "source": [
    "df = df.drop('QUADNUM',axis=1)"
   ]
  },
  {
   "cell_type": "code",
   "execution_count": 5,
   "metadata": {},
   "outputs": [
    {
     "data": {
      "text/html": [
       "<div>\n",
       "<style scoped>\n",
       "    .dataframe tbody tr th:only-of-type {\n",
       "        vertical-align: middle;\n",
       "    }\n",
       "\n",
       "    .dataframe tbody tr th {\n",
       "        vertical-align: top;\n",
       "    }\n",
       "\n",
       "    .dataframe thead th {\n",
       "        text-align: right;\n",
       "    }\n",
       "</style>\n",
       "<table border=\"1\" class=\"dataframe\">\n",
       "  <thead>\n",
       "    <tr style=\"text-align: right;\">\n",
       "      <th></th>\n",
       "      <th>TOTMASS</th>\n",
       "      <th>BURROWS</th>\n",
       "    </tr>\n",
       "    <tr>\n",
       "      <th>SITE</th>\n",
       "      <th></th>\n",
       "      <th></th>\n",
       "    </tr>\n",
       "  </thead>\n",
       "  <tbody>\n",
       "    <tr>\n",
       "      <th>DS</th>\n",
       "      <td>2.48875</td>\n",
       "      <td>45.5</td>\n",
       "    </tr>\n",
       "    <tr>\n",
       "      <th>LS</th>\n",
       "      <td>3.79700</td>\n",
       "      <td>32.6</td>\n",
       "    </tr>\n",
       "  </tbody>\n",
       "</table>\n",
       "</div>"
      ],
      "text/plain": [
       "      TOTMASS  BURROWS\n",
       "SITE                  \n",
       "DS    2.48875     45.5\n",
       "LS    3.79700     32.6"
      ]
     },
     "execution_count": 5,
     "metadata": {},
     "output_type": "execute_result"
    }
   ],
   "source": [
    "df.groupby('SITE').mean()"
   ]
  },
  {
   "cell_type": "markdown",
   "metadata": {},
   "source": [
    "### Plots"
   ]
  },
  {
   "cell_type": "code",
   "execution_count": 25,
   "metadata": {
    "scrolled": false
   },
   "outputs": [
    {
     "data": {
      "text/plain": [
       "(0, 5)"
      ]
     },
     "execution_count": 25,
     "metadata": {},
     "output_type": "execute_result"
    },
    {
     "data": {
      "image/png": "[encoded data removed]",
      "text/plain": [
       "<Figure size 864x360 with 2 Axes>"
      ]
     },
     "metadata": {
      "needs_background": "light"
     },
     "output_type": "display_data"
    }
   ],
   "source": [
    "fig, ax = plt.subplots(ncols=2, nrows=1, figsize=(12,5), sharex=True, sharey=True )\n",
    "df[df.SITE=='LS'].plot(kind='scatter',x='TOTMASS', y='BURROWS',grid=True,ax=ax[0], title='LS')\n",
    "df[df.SITE=='DS'].plot(kind='scatter',x='TOTMASS', y='BURROWS',grid=True,ax=ax[1], title='DS')\n",
    "ax[0].set_xlim([0,5])"
   ]
  },
  {
   "cell_type": "code",
   "execution_count": 26,
   "metadata": {},
   "outputs": [
    {
     "data": {
      "image/png": "[encoded data removed]",
      "text/plain": [
       "<Figure size 864x360 with 4 Axes>"
      ]
     },
     "metadata": {
      "needs_background": "light"
     },
     "output_type": "display_data"
    }
   ],
   "source": [
    "fig, ax = plt.subplots(ncols=4, nrows=1, figsize=(12,5))\n",
    "df[df.SITE=='DS']['TOTMASS'].plot(kind='box',grid=True,ax=ax[0], title='DS')\n",
    "df[df.SITE=='DS']['BURROWS'].plot(kind='box',grid=True,ax=ax[1], title='DS')\n",
    "df[df.SITE=='LS']['TOTMASS'].plot(kind='box',grid=True,ax=ax[2], title='LS')\n",
    "df[df.SITE=='LS']['BURROWS'].plot(kind='box',grid=True,ax=ax[3], title='LS')\n",
    "fig.tight_layout()"
   ]
  },
  {
   "cell_type": "markdown",
   "metadata": {},
   "source": [
    "### Correlation"
   ]
  },
  {
   "cell_type": "code",
   "execution_count": 27,
   "metadata": {},
   "outputs": [
    {
     "data": {
      "text/html": [
       "<div>\n",
       "<style scoped>\n",
       "    .dataframe tbody tr th:only-of-type {\n",
       "        vertical-align: middle;\n",
       "    }\n",
       "\n",
       "    .dataframe tbody tr th {\n",
       "        vertical-align: top;\n",
       "    }\n",
       "\n",
       "    .dataframe thead th {\n",
       "        text-align: right;\n",
       "    }\n",
       "</style>\n",
       "<table border=\"1\" class=\"dataframe\">\n",
       "  <thead>\n",
       "    <tr style=\"text-align: right;\">\n",
       "      <th></th>\n",
       "      <th></th>\n",
       "      <th>BURROWS</th>\n",
       "      <th>TOTMASS</th>\n",
       "    </tr>\n",
       "    <tr>\n",
       "      <th>SITE</th>\n",
       "      <th></th>\n",
       "      <th></th>\n",
       "      <th></th>\n",
       "    </tr>\n",
       "  </thead>\n",
       "  <tbody>\n",
       "    <tr>\n",
       "      <th rowspan=\"2\" valign=\"top\">DS</th>\n",
       "      <th>BURROWS</th>\n",
       "      <td>1.000000</td>\n",
       "      <td>0.391716</td>\n",
       "    </tr>\n",
       "    <tr>\n",
       "      <th>TOTMASS</th>\n",
       "      <td>0.391716</td>\n",
       "      <td>1.000000</td>\n",
       "    </tr>\n",
       "    <tr>\n",
       "      <th rowspan=\"2\" valign=\"top\">LS</th>\n",
       "      <th>BURROWS</th>\n",
       "      <td>1.000000</td>\n",
       "      <td>0.881955</td>\n",
       "    </tr>\n",
       "    <tr>\n",
       "      <th>TOTMASS</th>\n",
       "      <td>0.881955</td>\n",
       "      <td>1.000000</td>\n",
       "    </tr>\n",
       "  </tbody>\n",
       "</table>\n",
       "</div>"
      ],
      "text/plain": [
       "               BURROWS   TOTMASS\n",
       "SITE                            \n",
       "DS   BURROWS  1.000000  0.391716\n",
       "     TOTMASS  0.391716  1.000000\n",
       "LS   BURROWS  1.000000  0.881955\n",
       "     TOTMASS  0.881955  1.000000"
      ]
     },
     "execution_count": 27,
     "metadata": {},
     "output_type": "execute_result"
    }
   ],
   "source": [
    "df.groupby('SITE').corr(method='pearson')"
   ]
  },
  {
   "cell_type": "code",
   "execution_count": 41,
   "metadata": {},
   "outputs": [
    {
     "name": "stdout",
     "output_type": "stream",
     "text": [
      "Correlation type: \t Statistics: \t P value:\n",
      "Pearson \t\t 0.392 \t\t 0.337\n",
      "Spearman \t\t 0.168 \t\t 0.691\n",
      "Kendall \t\t 0.036 \t\t 0.901\n"
     ]
    }
   ],
   "source": [
    "ds = df[df.SITE=='DS']\n",
    "ls = df[df.SITE=='LS']\n",
    "pearson_stat, pearson_p = stats.pearsonr(ds['BURROWS'],ds['TOTMASS'])\n",
    "spearman_stat, spearman_p = stats.spearmanr(ds['BURROWS'],ds['TOTMASS'])\n",
    "kendall_stat, kendall_p = stats.kendalltau(ds['BURROWS'],ds['TOTMASS'])\n",
    "print('Correlation type: \\t Statistics: \\t P value:')\n",
    "print('{} \\t\\t {:.3f} \\t\\t {:.3f}'.format('Pearson', pearson_stat, pearson_p))\n",
    "print('{} \\t\\t {:.3f} \\t\\t {:.3f}'.format('Spearman', spearman_stat, spearman_p))\n",
    "print('{} \\t\\t {:.3f} \\t\\t {:.3f}'.format('Kendall', kendall_stat, kendall_p))"
   ]
  },
  {
   "cell_type": "code",
   "execution_count": 43,
   "metadata": {},
   "outputs": [
    {
     "name": "stdout",
     "output_type": "stream",
     "text": [
      "Correlation type \t Statistics \t P value\n",
      "Pearson \t\t 0.882 \t\t 0.001\n",
      "Spearman \t\t 0.851 \t\t 0.002\n",
      "Kendall \t\t 0.719 \t\t 0.004\n"
     ]
    }
   ],
   "source": [
    "ls = df[df.SITE=='LS']\n",
    "pearson_stat, pearson_p = stats.pearsonr(ls['BURROWS'],ls['TOTMASS'])\n",
    "spearman_stat, spearman_p = stats.spearmanr(ls['BURROWS'],ls['TOTMASS'])\n",
    "kendall_stat, kendall_p = stats.kendalltau(ls['BURROWS'],ls['TOTMASS'])\n",
    "print('Correlation type \\t Statistics \\t P value')\n",
    "print('{} \\t\\t {:.3f} \\t\\t {:.3f}'.format('Pearson', pearson_stat, pearson_p))\n",
    "print('{} \\t\\t {:.3f} \\t\\t {:.3f}'.format('Spearman', spearman_stat, spearman_p))\n",
    "print('{} \\t\\t {:.3f} \\t\\t {:.3f}'.format('Kendall', kendall_stat, kendall_p))"
   ]
  },
  {
   "cell_type": "code",
   "execution_count": null,
   "metadata": {
    "collapsed": true
   },
   "outputs": [],
   "source": []
  }
 ],
 "metadata": {
  "kernelspec": {
   "display_name": "Python [conda env:sccer]",
   "language": "python",
   "name": "conda-env-sccer-py"
  },
  "language_info": {
   "codemirror_mode": {
    "name": "ipython",
    "version": 3
   },
   "file_extension": ".py",
   "mimetype": "text/x-python",
   "name": "python",
   "nbconvert_exporter": "python",
   "pygments_lexer": "ipython3",
   "version": "3.6.6"
  }
 },
 "nbformat": 4,
 "nbformat_minor": 2
}
